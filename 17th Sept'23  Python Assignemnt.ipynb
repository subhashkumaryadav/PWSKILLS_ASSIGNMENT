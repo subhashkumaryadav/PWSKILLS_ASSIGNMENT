{
 "cells": [
  {
   "cell_type": "code",
   "execution_count": 1,
   "id": "dcd50a5a-9159-4a54-8c64-02b82d3e1db8",
   "metadata": {},
   "outputs": [],
   "source": [
    "# Write a Python program to print numbers from 1 to 10 using a for loop."
   ]
  },
  {
   "cell_type": "code",
   "execution_count": 2,
   "id": "f2b280d7-abb7-438c-bbd0-ebdaf19a7df9",
   "metadata": {},
   "outputs": [
    {
     "name": "stdout",
     "output_type": "stream",
     "text": [
      "1\n",
      "2\n",
      "3\n",
      "4\n",
      "5\n",
      "6\n",
      "7\n",
      "8\n",
      "9\n",
      "10\n"
     ]
    }
   ],
   "source": [
    "for i in range(1,11):\n",
    "    print(i)"
   ]
  },
  {
   "cell_type": "code",
   "execution_count": 3,
   "id": "87b6b104-70e8-40e5-9f1c-0dc743ebe198",
   "metadata": {},
   "outputs": [],
   "source": [
    "# Explain the difference between a for loop and a while loop in Python."
   ]
  },
  {
   "cell_type": "code",
   "execution_count": 5,
   "id": "db950e21-550c-4144-ac11-e640f6a5c83e",
   "metadata": {},
   "outputs": [],
   "source": [
    "#1)For loop is used to iterate over a sequence of items. While loop is used to repeatedly execute a block of statements while a condition is true.\n",
    "\n",
    "#2)For loop require a sequence to iterate over.  While the loop requires an initial condition that is tested at the beginning of the loop.\n",
    "\n",
    "#3)For loop is typically used for iterating over a fixed sequence of items   While loop is used for more complex control flow situations."
   ]
  },
  {
   "cell_type": "code",
   "execution_count": 6,
   "id": "103386d4-b168-4178-9608-5af924751eda",
   "metadata": {},
   "outputs": [],
   "source": [
    "# 3 Write a Python program to calculate the sum of all numbers from 1 to 100 using a for loop.\n"
   ]
  },
  {
   "cell_type": "code",
   "execution_count": 41,
   "id": "71044f49-54b0-4bd1-b0e4-707347002ae6",
   "metadata": {},
   "outputs": [
    {
     "name": "stdout",
     "output_type": "stream",
     "text": [
      "5050\n"
     ]
    }
   ],
   "source": [
    "sum_of_num = 0\n",
    "for i in range(1,101):  \n",
    "    sum_of_num = sum_of_num + i;\n",
    "print(sum_of_num)\n",
    "    \n",
    " \n",
    "    \n",
    "    \n",
    "    "
   ]
  },
  {
   "cell_type": "code",
   "execution_count": 42,
   "id": "3578199f-2271-4a1d-ac6c-c368e7e6680a",
   "metadata": {},
   "outputs": [],
   "source": [
    "# 4 How do you iterate a list using a for loop in Python?\n"
   ]
  },
  {
   "cell_type": "code",
   "execution_count": 50,
   "id": "045cfa3e-e8da-4bee-8ff5-a9517a669190",
   "metadata": {},
   "outputs": [
    {
     "name": "stdout",
     "output_type": "stream",
     "text": [
      "Apple\n",
      "Mango\n",
      "Banana\n",
      "Peach\n"
     ]
    }
   ],
   "source": [
    "fruits = [\"Apple\", \"Mango\", \"Banana\", \"Peach\"]\n",
    "for fruit in fruits:\n",
    "   print(fruit)"
   ]
  },
  {
   "cell_type": "code",
   "execution_count": 49,
   "id": "8df4b0ca-b1e6-469d-83ee-1b9a62c966f7",
   "metadata": {},
   "outputs": [],
   "source": [
    "# 5 Write a Python program to find the product of all elements in a list using a for loop."
   ]
  },
  {
   "cell_type": "code",
   "execution_count": 52,
   "id": "7f2427a8-eea9-47a5-bdd7-fcba4a9966fb",
   "metadata": {},
   "outputs": [
    {
     "name": "stdout",
     "output_type": "stream",
     "text": [
      "60\n"
     ]
    }
   ],
   "source": [
    "from operator import*\n",
    "lst1 = [3, 4, 5]\n",
    "res = 1\n",
    "for i in lst1:\n",
    "    res = mul(i, res)\n",
    "print(res)\n",
    "\n"
   ]
  },
  {
   "cell_type": "code",
   "execution_count": 53,
   "id": "67e79316-c6fb-4213-80ef-9a91d35c285a",
   "metadata": {},
   "outputs": [],
   "source": [
    "# 6 Create a Python program that prints all even numbers from 1 to 20 using a for loop.\n"
   ]
  },
  {
   "cell_type": "code",
   "execution_count": 56,
   "id": "402d16ce-887a-485e-8b0b-424e81feae9a",
   "metadata": {},
   "outputs": [
    {
     "name": "stdout",
     "output_type": "stream",
     "text": [
      "110\n"
     ]
    }
   ],
   "source": [
    "sum_of_even_number = 0;\n",
    "for i in range(1,21):\n",
    "    if i%2 == 0:\n",
    "        sum_of_even_number = sum_of_even_number+i;\n",
    "print(sum_of_even_number)\n",
    "    \n",
    "    "
   ]
  },
  {
   "cell_type": "code",
   "execution_count": 57,
   "id": "c8648f9a-8cdc-4715-b06a-b3b3b3659ce6",
   "metadata": {},
   "outputs": [],
   "source": [
    "# 7 Write a Python program that calculates the factorial of a number using a for loop."
   ]
  },
  {
   "cell_type": "code",
   "execution_count": 59,
   "id": "8d789e77-7054-4d1d-b0dc-2d662014e4e6",
   "metadata": {},
   "outputs": [
    {
     "name": "stdin",
     "output_type": "stream",
     "text": [
      "Enter a number:  4\n"
     ]
    },
    {
     "name": "stdout",
     "output_type": "stream",
     "text": [
      "Factorial of the given number is:  24\n"
     ]
    }
   ],
   "source": [
    "n = int (input (\"Enter a number: \"))\n",
    "factorial = 1\n",
    "if n >= 1:\n",
    "    for i in range (1, n+1):\n",
    "        factorial=factorial *i\n",
    "print(\"Factorial of the given number is: \", factorial)"
   ]
  },
  {
   "cell_type": "code",
   "execution_count": 60,
   "id": "24e30424-8f50-4cca-8628-0f7a6de964ac",
   "metadata": {},
   "outputs": [],
   "source": [
    "# 8 How can you iterate through the characters of a string using a for loop in Python?\n"
   ]
  },
  {
   "cell_type": "code",
   "execution_count": 61,
   "id": "e286ba74-9de3-4eb4-a1b3-a4b81b4fbf09",
   "metadata": {},
   "outputs": [
    {
     "name": "stdout",
     "output_type": "stream",
     "text": [
      "G\n",
      "e\n",
      "e\n",
      "k\n",
      "s\n"
     ]
    }
   ],
   "source": [
    "string_name = \"Geeks\"\n",
    " \n",
    "# Iterate over the string\n",
    "for i, v in enumerate(string_name):\n",
    "    print(v)"
   ]
  },
  {
   "cell_type": "code",
   "execution_count": 62,
   "id": "13cf79eb-2959-44f2-8fcf-9ac649914daf",
   "metadata": {},
   "outputs": [],
   "source": [
    "# 9 Write a Python program to find the largest number in a list using a for loop."
   ]
  },
  {
   "cell_type": "code",
   "execution_count": 64,
   "id": "7b33de84-b0f9-4d88-833e-3277c6e49e07",
   "metadata": {},
   "outputs": [
    {
     "name": "stdout",
     "output_type": "stream",
     "text": [
      "Greatest number:  45\n"
     ]
    }
   ],
   "source": [
    "l1 = [23,34,45,12]\n",
    "maxi = l1[0]\n",
    "\n",
    "for i in l1:\n",
    "    if i > maxi:\n",
    "        maxi = i\n",
    "        \n",
    "print(\"Greatest number: \", maxi)"
   ]
  },
  {
   "cell_type": "code",
   "execution_count": 65,
   "id": "de081828-5e29-4dde-95d2-471f7e84d0e4",
   "metadata": {},
   "outputs": [],
   "source": [
    "# 10 Create a Python program that prints the Fibonacci sequence up to a specified limit using a for loop."
   ]
  },
  {
   "cell_type": "code",
   "execution_count": 80,
   "id": "64eb60d8-2bb2-4441-b63b-09fe28879e3a",
   "metadata": {},
   "outputs": [
    {
     "name": "stdout",
     "output_type": "stream",
     "text": [
      "0\n",
      "1\n",
      "1\n",
      "2\n",
      "3\n",
      "5\n",
      "8\n",
      "13\n",
      "21\n",
      "34\n"
     ]
    }
   ],
   "source": [
    "first = 0\n",
    "second = 1\n",
    "print(first)\n",
    "print(second)\n",
    "for x in range(1,9):\n",
    "    third = first + second\n",
    "    print(third)\n",
    "    first,second=second,third"
   ]
  },
  {
   "cell_type": "code",
   "execution_count": 81,
   "id": "594d177e-47a5-4188-85e3-07fc2c0cc1f5",
   "metadata": {},
   "outputs": [],
   "source": [
    "# 11 Write a Python program to count the number of vowels in a given string using a for loop"
   ]
  },
  {
   "cell_type": "code",
   "execution_count": 82,
   "id": "0cd40af5-f989-4400-b3a2-b9d6ad0403f7",
   "metadata": {},
   "outputs": [
    {
     "name": "stdin",
     "output_type": "stream",
     "text": [
      "Enter string: SUBHASH KUMAR\n"
     ]
    },
    {
     "name": "stdout",
     "output_type": "stream",
     "text": [
      "Number of vowels are:\n",
      "4\n"
     ]
    }
   ],
   "source": [
    "string=input(\"Enter string:\")\n",
    "vowels=0\n",
    "for i in string:\n",
    "      if(i=='a' or i=='e' or i=='i' or i=='o' or i=='u' or i=='A' or i=='E' or i=='I' or i=='O' or i=='U'):\n",
    "            vowels=vowels+1\n",
    "print(\"Number of vowels are:\")\n",
    "print(vowels)"
   ]
  },
  {
   "cell_type": "code",
   "execution_count": 83,
   "id": "4ecb1056-4e1d-4a36-a768-901386a7cf91",
   "metadata": {},
   "outputs": [],
   "source": [
    "# 12 Create a Python program that generates a multiplication table for a given number using a for loop."
   ]
  },
  {
   "cell_type": "code",
   "execution_count": 84,
   "id": "af25391a-4741-4206-b2fb-b8b61830c5e9",
   "metadata": {},
   "outputs": [
    {
     "name": "stdin",
     "output_type": "stream",
     "text": [
      "Enter the number you want to generate a multiplication table for, then hit the `enter` key:  10\n"
     ]
    },
    {
     "name": "stdout",
     "output_type": "stream",
     "text": [
      "10  *  1  =  10\n",
      "10  *  2  =  20\n",
      "10  *  3  =  30\n",
      "10  *  4  =  40\n",
      "10  *  5  =  50\n",
      "10  *  6  =  60\n",
      "10  *  7  =  70\n",
      "10  *  8  =  80\n",
      "10  *  9  =  90\n",
      "10  *  10  =  100\n"
     ]
    }
   ],
   "source": [
    "ourNum = int(input(\"Enter the number you want to generate a multiplication table for, then hit the `enter` key: \"))\n",
    "ourRange = range(1,11)\n",
    "for x in ourRange:\n",
    "    result = ourNum * x\n",
    "    print(ourNum,\" * \",x,\" = \",result)\n"
   ]
  },
  {
   "cell_type": "code",
   "execution_count": 85,
   "id": "69090ae0-e245-4cee-8578-40ed3a2da609",
   "metadata": {},
   "outputs": [],
   "source": [
    "# 13 Write a Python program to reverse a list using a for loop.\n"
   ]
  },
  {
   "cell_type": "code",
   "execution_count": 86,
   "id": "cdea7ba3-6360-4cfc-8de0-7e41bef5e571",
   "metadata": {},
   "outputs": [
    {
     "name": "stdout",
     "output_type": "stream",
     "text": [
      "List before reverse :  [1, 2, 3, 4, 5]\n",
      "List after reverse :  [5, 4, 3, 2, 1]\n"
     ]
    }
   ],
   "source": [
    "original_list = [1, 2, 3, 4, 5]\n",
    "print(\"List before reverse : \",original_list)\n",
    "list_reverse = []\n",
    "for value in range(len(original_list)):\n",
    "  list_reverse.append(original_list.pop())\n",
    "print(\"List after reverse : \", list_reverse)"
   ]
  },
  {
   "cell_type": "code",
   "execution_count": 87,
   "id": "d2499709-2ef8-4646-a4fa-96e74f41d392",
   "metadata": {},
   "outputs": [],
   "source": [
    "# 14 Write a Python program to find the common elements between two lists using a for loop."
   ]
  },
  {
   "cell_type": "code",
   "execution_count": 88,
   "id": "151c8380-4835-465b-928e-7f037dcc4227",
   "metadata": {},
   "outputs": [
    {
     "name": "stdout",
     "output_type": "stream",
     "text": [
      "The common elements in the two lists are: \n",
      "[5]\n"
     ]
    }
   ],
   "source": [
    "def common_member(a, b):\n",
    "\tresult = [i for i in a if i in b]\n",
    "\treturn result\n",
    "\n",
    "a = [1, 2, 3, 4, 5]\n",
    "b = [5, 6, 7, 8, 9]\n",
    "\n",
    "print(\"The common elements in the two lists are: \")\n",
    "print(common_member(a, b))\n"
   ]
  },
  {
   "cell_type": "code",
   "execution_count": 89,
   "id": "a933d718-9056-4a2d-9975-040700ba24cf",
   "metadata": {},
   "outputs": [],
   "source": [
    "# 15 Explain how to use a for loop to iterate through the keys and values of a dictionary in Python.\n"
   ]
  },
  {
   "cell_type": "code",
   "execution_count": 90,
   "id": "a44ded0d-8d7e-4169-abcd-8414736a4667",
   "metadata": {},
   "outputs": [],
   "source": [
    "# To iterate through a dictionary ( dict ) with a for loop, use the keys() , values() , and items() methods. You can also get a list of all the keys and values in a dictionary using those methods and list() . "
   ]
  },
  {
   "cell_type": "code",
   "execution_count": 91,
   "id": "dd98cb1a-8b76-4727-a531-9568592f5b32",
   "metadata": {},
   "outputs": [],
   "source": [
    "# 16 Write a Python program to find the GCD (Greatest Common Divisor) of two numbers using a for loop.\n"
   ]
  },
  {
   "cell_type": "code",
   "execution_count": 92,
   "id": "fba10df4-6903-4a44-978c-fed2e6431227",
   "metadata": {},
   "outputs": [
    {
     "name": "stdout",
     "output_type": "stream",
     "text": [
      "GCD of 50 and 100 is: 50\n"
     ]
    }
   ],
   "source": [
    "x = 50\n",
    "y = 100\n",
    "if x > y:\n",
    "  x, y = y, x\n",
    "for i in range(1,x+1):\n",
    "  if x%i == 0 and y%i == 0:\n",
    "    gcd = i\n",
    "\n",
    "print(\"GCD of\", x, \"and\", y, \"is:\", gcd)"
   ]
  },
  {
   "cell_type": "code",
   "execution_count": 93,
   "id": "8770bf5c-951e-46df-a83b-2c3c7c97c942",
   "metadata": {},
   "outputs": [],
   "source": [
    "# 17 Create a Python program that checks if a string is a palindrome using a for loop."
   ]
  },
  {
   "cell_type": "code",
   "execution_count": 103,
   "id": "ae0bc655-b51f-48f6-aceb-5a5e6d6dd12f",
   "metadata": {},
   "outputs": [
    {
     "name": "stdout",
     "output_type": "stream",
     "text": [
      "Yes\n"
     ]
    }
   ],
   "source": [
    "\n",
    "def isPalindrome(str):\n",
    " \n",
    "    # Run loop from 0 to len/2\n",
    "    for i in range(0, int(len(str)/2)):\n",
    "        if str[i] != str[len(str)-i-1]:\n",
    "            return False\n",
    "    return True\n",
    " \n",
    "# main function\n",
    "s = \"malayalam\"\n",
    "ans = isPalindrome(s)\n",
    " \n",
    "if (ans):\n",
    "    print(\"Yes\")\n",
    "else:\n",
    "    print(\"No\")"
   ]
  },
  {
   "cell_type": "code",
   "execution_count": 104,
   "id": "807b39c7-bcd7-453d-b390-2a011054a7d1",
   "metadata": {},
   "outputs": [],
   "source": [
    "# 18 Write a Python program to remove duplicates from a list using a for loop."
   ]
  },
  {
   "cell_type": "code",
   "execution_count": 105,
   "id": "e497290c-ec5d-4996-b617-657edc17d2e8",
   "metadata": {},
   "outputs": [
    {
     "name": "stdout",
     "output_type": "stream",
     "text": [
      "[2, 4, 10, 20, 5]\n"
     ]
    }
   ],
   "source": [
    "def Remove(duplicate):\n",
    "    final_list = []\n",
    "    for num in duplicate:\n",
    "        if num not in final_list:\n",
    "            final_list.append(num)\n",
    "    return final_list\n",
    "     \n",
    "# Driver Code\n",
    "duplicate = [2, 4, 10, 20, 5, 2, 20, 4]\n",
    "print(Remove(duplicate))"
   ]
  },
  {
   "cell_type": "code",
   "execution_count": 106,
   "id": "2b9d2be2-6852-4ddd-8774-0affae63b7e6",
   "metadata": {},
   "outputs": [],
   "source": [
    "# 19 Create a Python program that counts the number of words in a sentence using a for loop.\n"
   ]
  },
  {
   "cell_type": "code",
   "execution_count": 108,
   "id": "789a8202-9d78-4fcf-b28f-464aa4a4ebda",
   "metadata": {},
   "outputs": [
    {
     "name": "stdout",
     "output_type": "stream",
     "text": [
      "Enter the String: \n"
     ]
    },
    {
     "name": "stdin",
     "output_type": "stream",
     "text": [
      " Subhash kumar yadav\n"
     ]
    },
    {
     "name": "stdout",
     "output_type": "stream",
     "text": [
      "\n",
      "Number of Word(s): \n",
      "3\n"
     ]
    }
   ],
   "source": [
    "print(\"Enter the String: \")\n",
    "text = input()\n",
    "\n",
    "chk = 0\n",
    "countWord = 0\n",
    "textLen = len(text)\n",
    "\n",
    "for i in range(textLen):\n",
    "    if text[i]==' ':\n",
    "        if chk!=0:\n",
    "            countWord = countWord+1\n",
    "        chk = 0\n",
    "    else:\n",
    "        chk = chk+1\n",
    "\n",
    "if chk!=0:\n",
    "    countWord = countWord+1\n",
    "\n",
    "print(\"\\nNumber of Word(s): \")\n",
    "print(countWord)"
   ]
  },
  {
   "cell_type": "code",
   "execution_count": 109,
   "id": "7718ce3e-2bb6-438f-8b58-c1240f4d64f3",
   "metadata": {},
   "outputs": [],
   "source": [
    "# 20 Write a Python program to find the sum of all odd numbers from 1 to 50 using a for loop.\n"
   ]
  },
  {
   "cell_type": "code",
   "execution_count": 117,
   "id": "d9d688b6-fb80-490d-bd92-62da1b6e6611",
   "metadata": {},
   "outputs": [
    {
     "name": "stdin",
     "output_type": "stream",
     "text": [
      "Enter the end number :  50\n"
     ]
    },
    {
     "name": "stdout",
     "output_type": "stream",
     "text": [
      "625\n"
     ]
    }
   ],
   "source": [
    "n = int(input(\"Enter the end number : \")) \n",
    "oddsum = 0 \n",
    "for i in range(1, n+1): \n",
    "  if i % 2 != 0: \n",
    "    oddsum += i \n",
    "print(oddsum) "
   ]
  },
  {
   "cell_type": "code",
   "execution_count": 118,
   "id": "b389623b-b476-44f0-b58e-98235de21260",
   "metadata": {},
   "outputs": [],
   "source": [
    "# 21 Write a Python program that checks if a given year is a leap year using a for loop"
   ]
  },
  {
   "cell_type": "code",
   "execution_count": 120,
   "id": "29d2e339-4fe2-4a14-94b8-379a35474d5b",
   "metadata": {},
   "outputs": [
    {
     "name": "stdin",
     "output_type": "stream",
     "text": [
      "Please select a starting year:  2020\n",
      "Please select how many years you'd like to check:  3\n"
     ]
    },
    {
     "name": "stdout",
     "output_type": "stream",
     "text": [
      "2020: Is a leap year\n",
      "2021\n",
      "2022\n",
      "2023\n"
     ]
    }
   ],
   "source": [
    "start_year = int(input(\"Please select a starting year: \"))\n",
    "num_of_years = int(input(\"Please select how many years you'd like to check: \"))\n",
    "end_year = start_year + num_of_years\n",
    "\n",
    "# The formula I used below to determine when a year is a leap year was copied from emrah-diril in this thread\n",
    "\n",
    "for year in range(start_year-1, end_year):\n",
    "    year += 1    \n",
    "    if year % 4 == 0 and (year % 100 != 0 or year % 400 == 0):\n",
    "        print (\"{}: Is a leap year\".format(year))\n",
    "    else:\n",
    "        print (year)"
   ]
  },
  {
   "cell_type": "code",
   "execution_count": 121,
   "id": "6f2ad06e-6b96-45a0-9608-8a6b0c74735a",
   "metadata": {},
   "outputs": [],
   "source": [
    "# 22 Create a Python program that calculates the square root of a number using a for loop."
   ]
  },
  {
   "cell_type": "code",
   "execution_count": 123,
   "id": "05765fb5-324b-4501-a8bf-d80b2d2f7c0b",
   "metadata": {},
   "outputs": [
    {
     "name": "stdout",
     "output_type": "stream",
     "text": [
      " Square root of a number 0 = 0.0 \n",
      " Square root of a number 1 = 1.0 \n",
      " Square root of a number 2 = 1.4142135623730951 \n",
      " Square root of a number 3 = 1.7320508075688772 \n",
      " Square root of a number 4 = 2.0 \n"
     ]
    }
   ],
   "source": [
    "import math    \n",
    "# Iterate through numbers from 0 to 29 and print their square roots  \n",
    "for i in range(5):    \n",
    "    # Use the format() method to insert the values of i and its square root into the string  \n",
    "    print(\" Square root of a number {0} = {1} \".format( i, math.sqrt(i)))   "
   ]
  },
  {
   "cell_type": "code",
   "execution_count": 124,
   "id": "9e3b1b46-903c-4627-a518-6593830e8eae",
   "metadata": {},
   "outputs": [],
   "source": [
    "# 23 Write a Python program to find the LCM (Least Common Multiple) of two numbers using a for loop.\n"
   ]
  },
  {
   "cell_type": "code",
   "execution_count": 125,
   "id": "9ab45364-c4d1-452c-b8c6-ba39df255ba2",
   "metadata": {},
   "outputs": [
    {
     "name": "stdout",
     "output_type": "stream",
     "text": [
      "-----Enter the two positive integer numbers-----\n"
     ]
    },
    {
     "name": "stdin",
     "output_type": "stream",
     "text": [
      " 2 \n",
      " 3\n"
     ]
    },
    {
     "name": "stdout",
     "output_type": "stream",
     "text": [
      "\n",
      "The LCM of two positive numbers  2  &  3  is  6.0 .\n"
     ]
    }
   ],
   "source": [
    "# Python Program to Find LCM of Two Numbers using For loop\n",
    "p, q, x, g = 0, 0, 0, 0\n",
    "\n",
    "# p & q - To store the two positive numbers\n",
    "# x - To store the LCM number\n",
    "# g - To store the GCD\n",
    "\n",
    "print (\"-----Enter the two positive integer numbers-----\")\n",
    "p = int (input ())\n",
    "q = int (input ())\n",
    "\n",
    "for i in range (1, p + 1):\n",
    "\tif i <= q:\n",
    "\t\tif p % i == 0 and q % i == 0:\n",
    "\t\t\tg = i\n",
    "\n",
    "x = (p * q) / g\n",
    "print (\"\\nThe LCM of two positive numbers \", p, \" & \", q, \" is \", x, \".\")"
   ]
  },
  {
   "cell_type": "code",
   "execution_count": 1,
   "id": "168ae6c7-e2d4-4124-91ba-2aa9f13e657d",
   "metadata": {},
   "outputs": [],
   "source": [
    "# if else\n",
    "\n",
    "# Write a Python program to check if a number is positive, negative, or zero using an if-else"
   ]
  },
  {
   "cell_type": "code",
   "execution_count": 4,
   "id": "40f09643-9ccb-471c-8049-96b11365d0e5",
   "metadata": {},
   "outputs": [
    {
     "name": "stdin",
     "output_type": "stream",
     "text": [
      "Enter number 0\n"
     ]
    },
    {
     "name": "stdout",
     "output_type": "stream",
     "text": [
      "0  is Zero\n"
     ]
    }
   ],
   "source": [
    "number = int(input(\"Enter number\"))\n",
    "if number > 0:\n",
    "    print(number,\" is Positive\")\n",
    "elif number < 0:\n",
    "    print(number,\" is Negative\")\n",
    "else:\n",
    "    print(number,\" is Zero\")"
   ]
  },
  {
   "cell_type": "code",
   "execution_count": 5,
   "id": "2071d9a7-8d9c-450f-80b8-87016e8b2785",
   "metadata": {},
   "outputs": [],
   "source": [
    "# Create a Pyth n program that checks if a given number is even or odd using an if-else statement."
   ]
  },
  {
   "cell_type": "code",
   "execution_count": 7,
   "id": "b2814b76-35d8-46da-afe3-a24d0d932665",
   "metadata": {},
   "outputs": [
    {
     "name": "stdin",
     "output_type": "stream",
     "text": [
      "Enter Number 3\n"
     ]
    },
    {
     "name": "stdout",
     "output_type": "stream",
     "text": [
      "3  is odd\n"
     ]
    }
   ],
   "source": [
    "number = int(input(\"Enter Number\"))\n",
    "if number % 2 == 0 :\n",
    "    print(number,\" is even\")\n",
    "else :\n",
    "    print(number,\" is odd\")"
   ]
  },
  {
   "cell_type": "code",
   "execution_count": 8,
   "id": "4966de6d-62fa-44fd-b50a-26b4c3032e1a",
   "metadata": {},
   "outputs": [],
   "source": [
    "# How can you use nested if-else statements in Python, and provide an example?"
   ]
  },
  {
   "cell_type": "code",
   "execution_count": 18,
   "id": "6761a868-397e-43b7-bf58-4dd6db2aff06",
   "metadata": {},
   "outputs": [
    {
     "name": "stdin",
     "output_type": "stream",
     "text": [
      "Enter Number 3\n"
     ]
    },
    {
     "name": "stdout",
     "output_type": "stream",
     "text": [
      "The number is positive but odd.\n"
     ]
    }
   ],
   "source": [
    "num = int(input(\"Enter Number\"))\n",
    "if num > 0:\n",
    "    if num % 2 == 0:\n",
    "        print(\"The number is positive and even.\")\n",
    "    else:\n",
    "        print(\"The number is positive but odd.\")\n",
    "else:\n",
    "    print(\"The number is not positive.\")"
   ]
  },
  {
   "cell_type": "code",
   "execution_count": 19,
   "id": "d0ad042e-c9b7-4fbf-87c5-5cf339b95d60",
   "metadata": {},
   "outputs": [],
   "source": [
    "# Write a Python program to determine the largest of three numbers using if-else."
   ]
  },
  {
   "cell_type": "code",
   "execution_count": 20,
   "id": "0aca891b-7f71-42f8-935a-f4f0ba380246",
   "metadata": {},
   "outputs": [
    {
     "name": "stdin",
     "output_type": "stream",
     "text": [
      "Enter Number 12\n",
      "Enter Number 33\n",
      "Enter Number 11\n"
     ]
    },
    {
     "name": "stdout",
     "output_type": "stream",
     "text": [
      "33  is Largest Number\n"
     ]
    }
   ],
   "source": [
    "a = int(input(\"Enter Number\"))\n",
    "b = int(input(\"Enter Number\"))\n",
    "c = int(input(\"Enter Number\"))\n",
    "if a>b & a>c :\n",
    "    print(a, \" is Largest Number\")\n",
    "elif b>c :\n",
    "    print(b, \" is Largest Number\")\n",
    "else :\n",
    "    print(c,\" is Largest Number\")"
   ]
  },
  {
   "cell_type": "code",
   "execution_count": null,
   "id": "2a788eb8-fdc7-490b-adc0-8a5bcdc899e0",
   "metadata": {},
   "outputs": [],
   "source": [
    "# Write a Python program that calculates the absolute value of a number using if-else."
   ]
  },
  {
   "cell_type": "code",
   "execution_count": 21,
   "id": "3f56213d-3c1f-4a09-8f71-11c8d57f3857",
   "metadata": {},
   "outputs": [
    {
     "name": "stdout",
     "output_type": "stream",
     "text": [
      "Absolute value of 5 =  5\n",
      "Absolute value of -5 =  5\n"
     ]
    }
   ],
   "source": [
    "# creating a function that returns the absolute value\n",
    "def getAbsoluteValue(value):\n",
    "   # checking whether the number is less than 0\n",
    "   if(value<0):\n",
    "      # returning negative of the value if the condition is true\n",
    "      # i.e -(-) value becomes plus(+)\n",
    "      return -value\n",
    "   # returning the number passed\n",
    "   return value\n",
    "# calling the getAbsoluteValue() function by passing some random positive number\n",
    "print(\"Absolute value of 5 = \", getAbsoluteValue(5))\n",
    "# calling the getAbsoluteValue() function by passing some random negative number\n",
    "print(\"Absolute value of -5 = \", getAbsoluteValue(-5))"
   ]
  },
  {
   "cell_type": "code",
   "execution_count": 22,
   "id": "cab2c367-0e42-47c8-a9c3-002b93a54653",
   "metadata": {},
   "outputs": [],
   "source": [
    "# Create a Python program that checks if a given character is a vowel or consonant using if-else."
   ]
  },
  {
   "cell_type": "code",
   "execution_count": 23,
   "id": "78d4f7f7-95f7-4324-9e4c-a864c02b8002",
   "metadata": {},
   "outputs": [
    {
     "name": "stdout",
     "output_type": "stream",
     "text": [
      "Consonant\n",
      "Vowel\n"
     ]
    }
   ],
   "source": [
    "def vowelOrConsonant(x):\n",
    "  \n",
    "    if (x == 'a' or x == 'e' or\n",
    "        x == 'i' or x == 'o' or x == 'u'):\n",
    "        print(\"Vowel\")\n",
    "    else:\n",
    "        print(\"Consonant\")\n",
    "  \n",
    "# Driver code\n",
    "vowelOrConsonant('c')\n",
    "vowelOrConsonant('e')"
   ]
  },
  {
   "cell_type": "code",
   "execution_count": 24,
   "id": "4f7d9d93-10a0-4242-bc4e-afd663f5b7cd",
   "metadata": {},
   "outputs": [],
   "source": [
    "# Write a Python program to determine if a user is eligible to vote based on their age using if-else."
   ]
  },
  {
   "cell_type": "code",
   "execution_count": 27,
   "id": "fbd816da-59e7-4dc4-8c63-57171256f746",
   "metadata": {},
   "outputs": [
    {
     "name": "stdin",
     "output_type": "stream",
     "text": [
      "Enter number 34\n"
     ]
    },
    {
     "name": "stdout",
     "output_type": "stream",
     "text": [
      "Person is eligible for vote\n"
     ]
    }
   ],
   "source": [
    "age = int(input(\"Enter number\"))\n",
    "if age < 18 :\n",
    "    print(\"Person is not eligible for vote\")\n",
    "else :\n",
    "    print(\"Person is eligible for vote\")"
   ]
  },
  {
   "cell_type": "code",
   "execution_count": 28,
   "id": "943ceada-e970-4ff9-9586-bfd2759a4084",
   "metadata": {},
   "outputs": [],
   "source": [
    "# Create a Python program that calculates the discount amount based on the purchase amount using if-else."
   ]
  },
  {
   "cell_type": "code",
   "execution_count": 30,
   "id": "33b3dd69-6c29-4351-8de6-1089fed29574",
   "metadata": {},
   "outputs": [
    {
     "name": "stdin",
     "output_type": "stream",
     "text": [
      "Enter Sale Amount:  7000\n"
     ]
    },
    {
     "name": "stdout",
     "output_type": "stream",
     "text": [
      "Discount :  840.0\n",
      "Net Pay  :  6160.0\n"
     ]
    }
   ],
   "source": [
    "# input sale amount\n",
    "amt = int(input(\"Enter Sale Amount: \"))\n",
    "\n",
    "# checking conditions and calculating discount\n",
    "if(amt>0):\n",
    "    if amt<=5000:\n",
    "       disc = amt*0.05\n",
    "    elif amt<=15000:\n",
    "        disc=amt*0.12\n",
    "    elif amt<=25000:\n",
    "        disc=0.2 * amt\n",
    "    else:\n",
    "         disc=0.3 * amt\n",
    "\n",
    "    print(\"Discount : \",disc)\n",
    "    print(\"Net Pay  : \",amt-disc)\n",
    "else:\n",
    "    print(\"Invalid Amount\")"
   ]
  },
  {
   "cell_type": "code",
   "execution_count": 31,
   "id": "7b586e14-69f4-4e58-8470-8de5014ad14b",
   "metadata": {},
   "outputs": [],
   "source": [
    "# Write a Python program to check if a number is within a specified range using if-else."
   ]
  },
  {
   "cell_type": "code",
   "execution_count": 35,
   "id": "9c523f49-f1ef-45ee-9932-4ae2b30d69f5",
   "metadata": {},
   "outputs": [
    {
     "name": "stdin",
     "output_type": "stream",
     "text": [
      "Enter a number :  8\n"
     ]
    },
    {
     "name": "stdout",
     "output_type": "stream",
     "text": [
      "8 is present in the range.\n"
     ]
    }
   ],
   "source": [
    "range_1 = [2, 20, 3, 5, 6, 8]\n",
    "number = int(input('Enter a number : '))\n",
    " \n",
    "if number in range_1 :\n",
    "    print(number, 'is present in the range.')\n",
    "else :\n",
    "    print(number, 'is not present in the range.')"
   ]
  },
  {
   "cell_type": "code",
   "execution_count": 36,
   "id": "f73f81b4-098b-408d-ba3d-38ac9d5d4014",
   "metadata": {},
   "outputs": [],
   "source": [
    "# Create a Python program that determines the grade of a student based on their score using if-else."
   ]
  },
  {
   "cell_type": "code",
   "execution_count": 39,
   "id": "e559220b-17b1-40c3-924c-fe7237ee68b9",
   "metadata": {},
   "outputs": [
    {
     "name": "stdin",
     "output_type": "stream",
     "text": [
      "Enter marks of the first subject:  99\n",
      "Enter marks of the second subject:  88\n",
      "Enter marks of the third subject:  98\n",
      "Enter marks of the fourth subject:  77\n",
      "Enter marks of the fifth subject:  66\n"
     ]
    },
    {
     "name": "stdout",
     "output_type": "stream",
     "text": [
      "Grade: B\n"
     ]
    }
   ],
   "source": [
    "sub1=int(input(\"Enter marks of the first subject: \"))\n",
    "sub2=int(input(\"Enter marks of the second subject: \"))\n",
    "sub3=int(input(\"Enter marks of the third subject: \"))\n",
    "sub4=int(input(\"Enter marks of the fourth subject: \"))\n",
    "sub5=int(input(\"Enter marks of the fifth subject: \"))\n",
    "avg=(sub1+sub2+sub3+sub4+sub4)/5\n",
    "if(avg>=90):\n",
    "    print(\"Grade: A\")\n",
    "elif(avg>=80 and avg<90):\n",
    "    print(\"Grade: B\")\n",
    "elif(avg>=70 and avg<80):\n",
    "    print(\"Grade: C\")\n",
    "elif(avg>=60 and avg<70):\n",
    "    print(\"Grade: D\")\n",
    "else:\n",
    "    print(\"Grade: F\")"
   ]
  },
  {
   "cell_type": "code",
   "execution_count": 3,
   "id": "de7fb8b8-4135-4c24-a782-62301a2b0ce3",
   "metadata": {},
   "outputs": [
    {
     "name": "stdin",
     "output_type": "stream",
     "text": [
      "Enter string \n"
     ]
    },
    {
     "name": "stdout",
     "output_type": "stream",
     "text": [
      "this is empty String\n"
     ]
    }
   ],
   "source": [
    "# Write a Python program to check if a string is empty or not using if-else.\n",
    "string = input(\"Enter string\")\n",
    "if len(string) == 0:\n",
    "    print(\"this is empty String\")\n",
    "else :\n",
    "    print(\"This in Non empty string\")"
   ]
  },
  {
   "cell_type": "code",
   "execution_count": 4,
   "id": "6e1aaa44-b32f-437d-a6d5-dc2100d30bd7",
   "metadata": {},
   "outputs": [],
   "source": [
    "# Create a Python program that identifies the type of a triangle (e.g., equilateral, isosceles, or scalene) based on input values using if-else."
   ]
  },
  {
   "cell_type": "code",
   "execution_count": 1,
   "id": "9a0506f2-0761-4d42-ab8c-ae81e9a2b0a3",
   "metadata": {},
   "outputs": [
    {
     "name": "stdout",
     "output_type": "stream",
     "text": [
      "Input lengths of the triangle sides: \n"
     ]
    },
    {
     "name": "stdin",
     "output_type": "stream",
     "text": [
      "x:  12\n",
      "y:  12\n",
      "z:  12\n"
     ]
    },
    {
     "name": "stdout",
     "output_type": "stream",
     "text": [
      "Equilateral triangle\n"
     ]
    }
   ],
   "source": [
    " print(\"Input lengths of the triangle sides: \")\n",
    "x = int(input(\"x: \"))\n",
    "y = int(input(\"y: \"))\n",
    "z = int(input(\"z: \"))\n",
    "\n",
    "if x == y == z:\n",
    "\tprint(\"Equilateral triangle\")\n",
    "elif x==y or y==z or z==x:\n",
    "\tprint(\"isosceles triangle\")\n",
    "else:\n",
    "\tprint(\"Scalene triangle\")"
   ]
  },
  {
   "cell_type": "code",
   "execution_count": null,
   "id": "c70b1d2a-09a0-407c-b763-fa2e947e3f3d",
   "metadata": {},
   "outputs": [],
   "source": [
    "# Write a Python program to determine the day of the week based on a user-provided number using if-else."
   ]
  },
  {
   "cell_type": "code",
   "execution_count": 3,
   "id": "821b12be-b8fb-46c8-9084-91898149996e",
   "metadata": {},
   "outputs": [
    {
     "name": "stdout",
     "output_type": "stream",
     "text": [
      "Wednesday\n"
     ]
    }
   ],
   "source": [
    "# Python program to Find day of\n",
    "# the week for a given date\n",
    "import datetime\n",
    "import calendar\n",
    " \n",
    "def findDay(date):\n",
    "    born = datetime.datetime.strptime(date, '%d %m %Y').weekday()\n",
    "    return (calendar.day_name[born])\n",
    " \n",
    "# Driver program\n",
    "date = '12 01 1994'\n",
    "print(findDay(date))"
   ]
  },
  {
   "cell_type": "code",
   "execution_count": 4,
   "id": "d14c9036-b847-4198-8ce7-1ed0f6c4b7e9",
   "metadata": {},
   "outputs": [],
   "source": [
    "# Create a Python program that checks if a given year is a leap year using both if-else and a function."
   ]
  },
  {
   "cell_type": "code",
   "execution_count": 8,
   "id": "6556994c-c882-4a4f-8fa1-41623faf1af7",
   "metadata": {},
   "outputs": [
    {
     "name": "stdin",
     "output_type": "stream",
     "text": [
      "Enter Year 2021\n"
     ]
    },
    {
     "name": "stdout",
     "output_type": "stream",
     "text": [
      "2021 : is not leep year\n"
     ]
    }
   ],
   "source": [
    "year = int(input(\"Enter Year\"))\n",
    "if year % 4 == 0 or year % 400 == 0 :\n",
    "    print(year,\": is Leep \")\n",
    "else :\n",
    "    print(year,\": is not leep year\")"
   ]
  },
  {
   "cell_type": "code",
   "execution_count": 9,
   "id": "29637f46-b7e0-412d-ba16-229441d17a09",
   "metadata": {},
   "outputs": [],
   "source": [
    "# How do you use the \"assert\" statement in Python to add debugging checks within if-else blocks?"
   ]
  },
  {
   "cell_type": "code",
   "execution_count": 10,
   "id": "770039f7-dd30-44dd-9aee-34615d58c66f",
   "metadata": {},
   "outputs": [],
   "source": [
    "#In Python, the assert statement is a powerful tool that helps with debugging and handling errors during development. It allows you to make assumptions about the code and catch potential issues early on."
   ]
  },
  {
   "cell_type": "code",
   "execution_count": 11,
   "id": "902fa4fa-894f-47dc-8483-180ce3f8a7b7",
   "metadata": {},
   "outputs": [],
   "source": [
    "# syntax\n",
    "# assert condition [, Error Message] "
   ]
  },
  {
   "cell_type": "code",
   "execution_count": 14,
   "id": "ea3e830f-4c5a-4d29-9ac4-e5eaf48ab9de",
   "metadata": {},
   "outputs": [
    {
     "name": "stdout",
     "output_type": "stream",
     "text": [
      "5.0\n"
     ]
    },
    {
     "ename": "AssertionError",
     "evalue": "y cannot be zero",
     "output_type": "error",
     "traceback": [
      "\u001b[0;31m---------------------------------------------------------------------------\u001b[0m",
      "\u001b[0;31mAssertionError\u001b[0m                            Traceback (most recent call last)",
      "Cell \u001b[0;32mIn[14], line 7\u001b[0m\n\u001b[1;32m      4\u001b[0m   \u001b[38;5;28mprint\u001b[39m(x\u001b[38;5;241m/\u001b[39my)\n\u001b[1;32m      6\u001b[0m division(\u001b[38;5;241m10\u001b[39m,\u001b[38;5;241m2\u001b[39m) \u001b[38;5;66;03m#5\u001b[39;00m\n\u001b[0;32m----> 7\u001b[0m \u001b[43mdivision\u001b[49m\u001b[43m(\u001b[49m\u001b[38;5;241;43m10\u001b[39;49m\u001b[43m,\u001b[49m\u001b[38;5;241;43m0\u001b[39;49m\u001b[43m)\u001b[49m \u001b[38;5;66;03m#AssertionError: y cannot be zero\u001b[39;00m\n",
      "Cell \u001b[0;32mIn[14], line 2\u001b[0m, in \u001b[0;36mdivision\u001b[0;34m(x, y)\u001b[0m\n\u001b[1;32m      1\u001b[0m \u001b[38;5;28;01mdef\u001b[39;00m \u001b[38;5;21mdivision\u001b[39m(x,y):\n\u001b[0;32m----> 2\u001b[0m   \u001b[38;5;28;01massert\u001b[39;00m y\u001b[38;5;241m!=\u001b[39m\u001b[38;5;241m0\u001b[39m, \u001b[38;5;124m\"\u001b[39m\u001b[38;5;124my cannot be zero\u001b[39m\u001b[38;5;124m\"\u001b[39m\n\u001b[1;32m      4\u001b[0m   \u001b[38;5;28mprint\u001b[39m(x\u001b[38;5;241m/\u001b[39my)\n",
      "\u001b[0;31mAssertionError\u001b[0m: y cannot be zero"
     ]
    }
   ],
   "source": [
    "def division(x,y):\n",
    "  assert y!=0, \"y cannot be zero\"\n",
    "  \n",
    "  print(x/y)\n",
    "  \n",
    "division(10,2) #5\n",
    "division(10,0) #AssertionError: y cannot be zero"
   ]
  },
  {
   "cell_type": "code",
   "execution_count": 15,
   "id": "011d18da-679b-48a5-aff2-80d2c03834f4",
   "metadata": {},
   "outputs": [],
   "source": [
    "# Create a Python program that determines the eligibility of a person for a senior citizen discount based on age using if-else."
   ]
  },
  {
   "cell_type": "code",
   "execution_count": 18,
   "id": "d3d7201a-9447-4d08-aaaa-2bc498363370",
   "metadata": {},
   "outputs": [
    {
     "name": "stdin",
     "output_type": "stream",
     "text": [
      "Please enter a persons age. 87\n"
     ]
    },
    {
     "name": "stdout",
     "output_type": "stream",
     "text": [
      "Person is senior citizen and he/she eligible for discount at the time of travelling in bus/train/flight ticket \n"
     ]
    }
   ],
   "source": [
    "age = int(input('Please enter a persons age.'))\n",
    "if age>=60 :\n",
    "    print(\"Person is senior citizen and he/she eligible for discount at the time of travelling in bus/train/flight ticket \")\n",
    "else :\n",
    "     print(\"Person is not senior citizen and he/she is not eligible for discount at the time of travelling in bus/train/flight ticket \")"
   ]
  },
  {
   "cell_type": "code",
   "execution_count": 19,
   "id": "b3683442-a207-489d-9fda-f103579d944e",
   "metadata": {},
   "outputs": [],
   "source": [
    "# Write a Python program to categorize a given character as uppercase, lowercase, or neither using if-else."
   ]
  },
  {
   "cell_type": "code",
   "execution_count": 20,
   "id": "dfb2110d-9c33-43da-963f-4d2412c65cdc",
   "metadata": {},
   "outputs": [
    {
     "name": "stdout",
     "output_type": "stream",
     "text": [
      "The original string is : geeksforGeeks\n",
      "Does String contain uppercase character : True\n"
     ]
    }
   ],
   "source": [
    "# initializing string\n",
    "test_str = 'geeksforGeeks'\n",
    "uppercase=\"ABCDEFGHIJKLMNOPQRSTUVWXYZ\"\n",
    "# printing original string\n",
    "print(\"The original string is : \" + str(test_str))\n",
    " \n",
    "res = False\n",
    "for ele in test_str:\n",
    "    if(ele in uppercase):\n",
    "        res=True\n",
    "        break\n",
    " \n",
    "# printing result\n",
    "print(\"Does String contain uppercase character : \" + str(res))"
   ]
  },
  {
   "cell_type": "code",
   "execution_count": 21,
   "id": "8edcb084-502d-4891-b0f4-fecf1bfd20a9",
   "metadata": {},
   "outputs": [],
   "source": [
    "# Write a Python program to determine the roots of a quadratic equation using if-else."
   ]
  },
  {
   "cell_type": "code",
   "execution_count": 22,
   "id": "7a92523a-561d-4d56-8ddf-0c85f58cc9ac",
   "metadata": {},
   "outputs": [
    {
     "name": "stdout",
     "output_type": "stream",
     "text": [
      "Equation: ax^2 + bx + c \n"
     ]
    },
    {
     "name": "stdin",
     "output_type": "stream",
     "text": [
      "Enter a:  2\n",
      "Enter b:  3\n",
      "Enter c:  4\n"
     ]
    },
    {
     "name": "stdout",
     "output_type": "stream",
     "text": [
      "The roots are imaginary. \n"
     ]
    }
   ],
   "source": [
    "print(\"Equation: ax^2 + bx + c \")\n",
    "a=int(input(\"Enter a: \"))\n",
    "b=int(input(\"Enter b: \"))\n",
    "c=int(input(\"Enter c: \"))\n",
    "d=b**2-4*a*c\n",
    "d1=d**0.5\n",
    "if(d<0):\n",
    "    print(\"The roots are imaginary. \")\n",
    "else:\n",
    "    r1=(-b+d1)/2*a\n",
    "    r2=(-b-d1)/2*a\n",
    "    print(\"The first root: \",round(r1,2))\n",
    "    print(\"The second root: \",round(r2,2))"
   ]
  },
  {
   "cell_type": "code",
   "execution_count": 23,
   "id": "eb467177-20df-473e-a7a5-9b4360951a9b",
   "metadata": {},
   "outputs": [],
   "source": [
    "# Create a Python program that checks if a given year is a century year or not using if-else.\n"
   ]
  },
  {
   "cell_type": "code",
   "execution_count": 29,
   "id": "7f513b02-3f3e-4f9d-9698-721043fb75ce",
   "metadata": {},
   "outputs": [],
   "source": [
    "def centuryFromYear(year):\n",
    "  if year % 100 == 0:\n",
    "    \n",
    "    print(year,\": is century year\")\n",
    "  else :\n",
    "    print(year,\": is not century year \")"
   ]
  },
  {
   "cell_type": "code",
   "execution_count": 30,
   "id": "b10ef433-4e53-40a5-98c1-b4f824c169cc",
   "metadata": {},
   "outputs": [
    {
     "name": "stdout",
     "output_type": "stream",
     "text": [
      "2000 : is century year\n"
     ]
    }
   ],
   "source": [
    "\n",
    "centuryFromYear(2000)\n"
   ]
  },
  {
   "cell_type": "code",
   "execution_count": 31,
   "id": "4cb2ce6f-d2c9-4757-a52c-6903780c03e6",
   "metadata": {},
   "outputs": [],
   "source": [
    "# Write a Python program to determine if a given number is a perfect square using if-else."
   ]
  },
  {
   "cell_type": "code",
   "execution_count": 35,
   "id": "536e34c2-588e-40cb-a2f4-f6b0ff6e77ea",
   "metadata": {},
   "outputs": [
    {
     "name": "stdin",
     "output_type": "stream",
     "text": [
      "Enter Number 12\n"
     ]
    },
    {
     "name": "stdout",
     "output_type": "stream",
     "text": [
      "The number is not a perfect square\n"
     ]
    }
   ],
   "source": [
    "num = int(input(\"Enter Number\"))  \n",
    "sqrt_num = num // 2  \n",
    "while sqrt_num * sqrt_num > num:  \n",
    "    sqrt_num = (sqrt_num + num // sqrt_num) // 2  \n",
    "if sqrt_num * sqrt_num == num:  \n",
    "    print(\"The number is a perfect square\")  \n",
    "else:  \n",
    "    print(\"The number is not a perfect square\")  "
   ]
  },
  {
   "cell_type": "code",
   "execution_count": 36,
   "id": "5a0aa745-bd45-4343-86c0-1507ccac25ab",
   "metadata": {},
   "outputs": [],
   "source": [
    "# Explain the purpose of the \"continue\" and \"break\" statements within if-else loops"
   ]
  },
  {
   "cell_type": "code",
   "execution_count": 37,
   "id": "70583094-181d-404c-bd5a-28bcdea35ca1",
   "metadata": {},
   "outputs": [
    {
     "name": "stdout",
     "output_type": "stream",
     "text": [
      "0\n",
      "1\n",
      "2\n"
     ]
    }
   ],
   "source": [
    "# The break statement is used to terminate the loop immediately. The continue statement is used to skip the current iteration of the loop.\n",
    "for i in range(5):\n",
    "    if i == 3:\n",
    "        break\n",
    "    print(i)"
   ]
  },
  {
   "cell_type": "code",
   "execution_count": 38,
   "id": "1cc46ce5-00e7-40ea-a5f9-e919c63cebf5",
   "metadata": {},
   "outputs": [
    {
     "name": "stdout",
     "output_type": "stream",
     "text": [
      "0\n",
      "1\n",
      "2\n",
      "4\n"
     ]
    }
   ],
   "source": [
    "for i in range(5):\n",
    "    if i == 3:\n",
    "        continue\n",
    "    print(i)"
   ]
  },
  {
   "cell_type": "code",
   "execution_count": 39,
   "id": "d9560470-1002-4be6-9e9e-a615fbae614e",
   "metadata": {},
   "outputs": [],
   "source": [
    "# Create a Python program that calculates the BMI (Body Mass Index) of a person based on their weight and height using if-else."
   ]
  },
  {
   "cell_type": "code",
   "execution_count": 40,
   "id": "5f3694b9-ad1c-4642-ab55-8a7d4dcfe2c1",
   "metadata": {},
   "outputs": [
    {
     "name": "stdin",
     "output_type": "stream",
     "text": [
      "Enter the height in cm:  68.5\n",
      "Enter the weight in kg:  70\n"
     ]
    },
    {
     "name": "stdout",
     "output_type": "stream",
     "text": [
      "Your Body Mass Index is 149.18216207576322\n",
      "Seesh! You are obese.\n"
     ]
    }
   ],
   "source": [
    "the_height = float(input(\"Enter the height in cm: \"))  \n",
    "the_weight = float(input(\"Enter the weight in kg: \"))  \n",
    "# defining a function for BMI  \n",
    "the_BMI = the_weight / (the_height/100)**2  \n",
    "# printing the BMI  \n",
    "print(\"Your Body Mass Index is\", the_BMI)  \n",
    "# using the if-elif-else conditions  \n",
    "if the_BMI <= 18.5:  \n",
    "    print(\"Oops! You are underweight.\")  \n",
    "elif the_BMI <= 24.9:  \n",
    "    print(\"Awesome! You are healthy.\")  \n",
    "elif the_BMI <= 29.9:  \n",
    "    the_print(\"Eee! You are over weight.\")  \n",
    "else:  \n",
    "    print(\"Seesh! You are obese.\")  "
   ]
  },
  {
   "cell_type": "code",
   "execution_count": null,
   "id": "dde53c46-07cf-4d2a-8c2d-e2bc2174f5a3",
   "metadata": {},
   "outputs": [],
   "source": [
    "# How can you use the \"filter()\" function with if-else statements to filter elements from a list?\n"
   ]
  },
  {
   "cell_type": "code",
   "execution_count": 41,
   "id": "70368bf3-dda4-47fe-becd-9d954a938373",
   "metadata": {},
   "outputs": [
    {
     "name": "stdout",
     "output_type": "stream",
     "text": [
      "[70, 80, 90]\n"
     ]
    }
   ],
   "source": [
    "scores = [70, 60, 80, 90, 50]\n",
    "filtered = filter(lambda score: score >= 70, scores)\n",
    "\n",
    "print(list(filtered))"
   ]
  },
  {
   "cell_type": "code",
   "execution_count": 42,
   "id": "a0553236-f81e-4d5f-a2e7-ef7cead7b3f0",
   "metadata": {},
   "outputs": [],
   "source": [
    "# Write a Python program to determine if a given number is prime or not using if-else."
   ]
  },
  {
   "cell_type": "code",
   "execution_count": 46,
   "id": "9ae97f41-2424-424c-bab7-7b8d16cdcef2",
   "metadata": {},
   "outputs": [
    {
     "name": "stdin",
     "output_type": "stream",
     "text": [
      "Enter number 5\n"
     ]
    },
    {
     "name": "stdout",
     "output_type": "stream",
     "text": [
      "5 is a prime number\n"
     ]
    }
   ],
   "source": [
    "num = int(input(\"Enter number\"))\n",
    "# If given number is greater than 1\n",
    "if num > 1:\n",
    "    # Iterate from 2 to n / 2\n",
    "    for i in range(2, int(num/2)+1):\n",
    "        # If num is divisible by any number between\n",
    "        # 2 and n / 2, it is not prime\n",
    "        if (num % i) == 0:\n",
    "            print(num, \"is not a prime number\")\n",
    "            break\n",
    "    else:\n",
    "        print(num, \"is a prime number\")\n",
    "else:\n",
    "    print(num, \"is not a prime number\")"
   ]
  },
  {
   "cell_type": "code",
   "execution_count": 1,
   "id": "91dcb510-b6cb-46da-9d60-98cf72afbd46",
   "metadata": {},
   "outputs": [],
   "source": [
    "# Explain the purpose of the `map()` function in Python and provide an example of how it can be used to apply a function to each element of an iterable.\n"
   ]
  },
  {
   "cell_type": "code",
   "execution_count": 2,
   "id": "ff238a91-a5d3-4592-ad2f-1e280f4a8348",
   "metadata": {},
   "outputs": [
    {
     "name": "stdout",
     "output_type": "stream",
     "text": [
      "[2, 4, 6, 8]\n"
     ]
    }
   ],
   "source": [
    "# Map in Python is a function that works as an iterator to return a result after applying a function to every item of an iterable (tuple, lists, etc.).\n",
    "\n",
    "def addition(n):\n",
    "\treturn n + n\n",
    "\n",
    "# We double all numbers using map()\n",
    "numbers = (1, 2, 3, 4)\n",
    "result = map(addition, numbers)\n",
    "print(list(result))\n"
   ]
  },
  {
   "cell_type": "code",
   "execution_count": 3,
   "id": "3b10e283-bbd1-4e84-bde3-a2c53302701f",
   "metadata": {},
   "outputs": [],
   "source": [
    "# Write a Python program that uses the `map()` function to square each element of a list of numbers.\n"
   ]
  },
  {
   "cell_type": "code",
   "execution_count": 4,
   "id": "b0c4f2f0-ac76-4d4d-bb6a-e56c2e0280b7",
   "metadata": {},
   "outputs": [
    {
     "name": "stdout",
     "output_type": "stream",
     "text": [
      "[1, 4, 9, 16]\n"
     ]
    }
   ],
   "source": [
    "def addition(n):\n",
    "\treturn n * n\n",
    "\n",
    "# We double all numbers using map()\n",
    "numbers = (1, 2, 3, 4)\n",
    "result = map(addition, numbers)\n",
    "print(list(result))\n"
   ]
  },
  {
   "cell_type": "code",
   "execution_count": 5,
   "id": "b87f705f-4a73-45d7-9b11-2eb5e017b972",
   "metadata": {},
   "outputs": [],
   "source": [
    "# How does the `map()` function differ from a list comprehension in Python, and when would you choose one over the other?\n"
   ]
  },
  {
   "cell_type": "code",
   "execution_count": 6,
   "id": "9bf4fa06-57fa-41d5-9145-f6a3a894d336",
   "metadata": {},
   "outputs": [
    {
     "name": "stdout",
     "output_type": "stream",
     "text": [
      "<map object at 0x7f55c2ff2aa0>\n",
      "[4, 88, 11.0, 12, -14]\n"
     ]
    }
   ],
   "source": [
    "# function to double the number\n",
    "def num (n) :\n",
    "\treturn n * 2\n",
    "\t\t\n",
    "lst = [2, 44, 5.5, 6, -7]\n",
    "\n",
    "# suppose we want to call function\n",
    "# 'num' for each element of lst,\n",
    "# we use map\n",
    "\n",
    "# creates a map object\n",
    "x = map(num, lst)\n",
    "print(x)\n",
    "\n",
    "# returns list\n",
    "print(list(x))\n"
   ]
  },
  {
   "cell_type": "code",
   "execution_count": 7,
   "id": "d7685495-1af5-4121-b462-66792882a2fd",
   "metadata": {},
   "outputs": [
    {
     "name": "stdout",
     "output_type": "stream",
     "text": [
      "[4, 88, 11.0, 12, -14]\n"
     ]
    }
   ],
   "source": [
    "lst = [2, 44, 5.5, 6, -7]\n",
    "\n",
    "# to double the number\n",
    "# list comprehension\n",
    "x = [i * 2 for i in lst ]\n",
    "print(x)\n"
   ]
  },
  {
   "cell_type": "code",
   "execution_count": 8,
   "id": "0c4c326d-3a9f-46eb-a1a0-6e3ddb189ba2",
   "metadata": {},
   "outputs": [],
   "source": [
    "# Create a Python program that uses the `map()` function to convert a list of names to uppercase.\n"
   ]
  },
  {
   "cell_type": "code",
   "execution_count": 10,
   "id": "b97d4da2-ac2c-4648-b98f-c951b16795b8",
   "metadata": {},
   "outputs": [
    {
     "name": "stdout",
     "output_type": "stream",
     "text": [
      "Original Characters:\n",
      " {'b', 'i', 'f', 'E', 'a', 'o', 'U'}\n",
      "\n",
      "After converting above characters in upper and lower cases\n",
      "and eliminating duplicate letters:\n",
      "{'F', 'I', 'B', 'E', 'O', 'U', 'A'}\n"
     ]
    }
   ],
   "source": [
    "def change_cases(s):\n",
    "  return str(s).upper()\n",
    " \n",
    "chrars = {'a', 'b', 'E', 'f', 'a', 'i', 'o', 'U', 'a'}\n",
    "print(\"Original Characters:\\n\",chrars)\n",
    " \n",
    "result = map(change_cases, chrars)\n",
    "print(\"\\nAfter converting above characters in upper and lower cases\\nand eliminating duplicate letters:\")\n",
    "print(set(result))\n"
   ]
  },
  {
   "cell_type": "code",
   "execution_count": 11,
   "id": "d5d5488b-e59b-434f-a1a1-ce8348d6f080",
   "metadata": {},
   "outputs": [],
   "source": [
    "# Write a Python program that uses the `map()` function to calculate the length of each word in a list of strings.\n"
   ]
  },
  {
   "cell_type": "code",
   "execution_count": 12,
   "id": "f5fcb0ac-8031-45ac-b173-bc4d639dfba9",
   "metadata": {},
   "outputs": [
    {
     "name": "stdout",
     "output_type": "stream",
     "text": [
      "The original string is : Geeksforgeeks is best Computer Science Portal\n",
      "The list of words lengths is : [13, 2, 4, 8, 7, 6]\n"
     ]
    }
   ],
   "source": [
    "# Python3 code to demonstrate Words lengths in String\n",
    "# using split() method\n",
    "\n",
    "# Initializing string\n",
    "test_string = \"Geeksforgeeks is best Computer Science Portal\"\n",
    "\n",
    "# Printing original string\n",
    "print(\"The original string is : \" + test_string)\n",
    "\n",
    "# Words lengths in String\n",
    "# using split() method\n",
    "res = list(map(len, test_string.split()))\n",
    "\n",
    "# Printing result\n",
    "print(\"The list of words lengths is : \" + str(res))\n"
   ]
  },
  {
   "cell_type": "code",
   "execution_count": 13,
   "id": "8916537b-30d0-4909-bdc1-775d2e2037c3",
   "metadata": {},
   "outputs": [],
   "source": [
    "# How can you use the `map()` function to apply a custom function to elements of multiple lists simultaneously in Python?\n"
   ]
  },
  {
   "cell_type": "code",
   "execution_count": 14,
   "id": "b018a18e-2226-4384-ad10-9ebd296d916b",
   "metadata": {},
   "outputs": [
    {
     "name": "stdout",
     "output_type": "stream",
     "text": [
      "[2 1 0]\n",
      "[4 1 0]\n",
      "[10 40 90]\n"
     ]
    }
   ],
   "source": [
    "import numpy as np\n",
    "\n",
    "a = np.array([-2, -1, 0])\n",
    "print(np.abs(a))\n",
    "# [2 1 0]\n",
    "\n",
    "print(a**2)\n",
    "# [4 1 0]\n",
    "\n",
    "a_1 = np.array([1, 2, 3])\n",
    "a_2 = np.array([10, 20, 30])\n",
    "print(a_1 * a_2)\n",
    "# [10 40 90]"
   ]
  },
  {
   "cell_type": "code",
   "execution_count": 15,
   "id": "f39ad906-a383-45ce-bf1d-939a6059757b",
   "metadata": {},
   "outputs": [],
   "source": [
    "# Create a Python program that uses `map()` to convert a list of temperatures from Celsius to Fahrenheit.\n"
   ]
  },
  {
   "cell_type": "code",
   "execution_count": 16,
   "id": "298870a0-df87-411c-b765-5b4c976321e3",
   "metadata": {},
   "outputs": [
    {
     "name": "stdin",
     "output_type": "stream",
     "text": [
      "Enter temperaturein celsius:  23\n"
     ]
    },
    {
     "name": "stdout",
     "output_type": "stream",
     "text": [
      "23.0 degree Celsiusis equal to 73.4 degree Fahrenheit.\n"
     ]
    }
   ],
   "source": [
    "celsius = float(input(\"Enter temperature\\\n",
    "in celsius: \"))\n",
    "\n",
    "fahrenheit = (celsius * 1.8) + 32\n",
    "\n",
    "print(str(celsius )+ \" degree Celsius\\\n",
    "is equal to \" + str(fahrenheit )+\n",
    "\t\" degree Fahrenheit.\")\n"
   ]
  },
  {
   "cell_type": "code",
   "execution_count": 17,
   "id": "9b9919b2-a34c-4f03-bec4-408810bcb399",
   "metadata": {},
   "outputs": [],
   "source": [
    "# Write a Python program that uses the `map()` function to round each element of a list of floating-point numbers to the nearest integer.\n"
   ]
  },
  {
   "cell_type": "code",
   "execution_count": 24,
   "id": "030d8f16-ca68-4ba1-80e2-ff75d16ac7cb",
   "metadata": {},
   "outputs": [
    {
     "name": "stdout",
     "output_type": "stream",
     "text": [
      "[2, 5, 7, 9]\n"
     ]
    }
   ],
   "source": [
    "list_of_integers = [2.3, 5.4, 7.2, 9.4]\n",
    "\n",
    "new_list = list(map(int, list_of_integers))\n",
    "\n",
    "print(new_list)\n"
   ]
  },
  {
   "cell_type": "code",
   "execution_count": null,
   "id": "4a78e9a6-187d-4ad2-8498-27d6666dae5f",
   "metadata": {},
   "outputs": [],
   "source": [
    "# Reduce\n",
    "# 1.What is the `reduce()` function in Python, and what module should you import to use it? Provide an example of its basic usage."
   ]
  },
  {
   "cell_type": "code",
   "execution_count": 1,
   "id": "61ff0e80-3edd-415b-a7b2-8d7ce14b38cc",
   "metadata": {},
   "outputs": [],
   "source": [
    "# The reduce(fun,seq) function is used to apply a particular function passed in its argument to all of the list elements mentioned in the sequence passed along\n",
    "\n",
    "# This function is defined in “functools” module."
   ]
  },
  {
   "cell_type": "code",
   "execution_count": 2,
   "id": "327d4f78-b9bb-475b-9cd8-039b4ced529f",
   "metadata": {},
   "outputs": [
    {
     "name": "stdout",
     "output_type": "stream",
     "text": [
      "10\n"
     ]
    }
   ],
   "source": [
    "# Ex\n",
    "from functools import reduce \n",
    "\n",
    "nums = [1, 2, 3, 4]\n",
    "ans = reduce(lambda x, y: x + y, nums)\n",
    "print(ans) \n"
   ]
  },
  {
   "cell_type": "code",
   "execution_count": 3,
   "id": "db6ef520-70f6-4f7f-ace7-2426d24eec40",
   "metadata": {},
   "outputs": [],
   "source": [
    "# 2.Write a Python program that uses the `reduce()` function to find the product of all elements in a list."
   ]
  },
  {
   "cell_type": "code",
   "execution_count": 5,
   "id": "1c54352f-7afc-4d21-82b5-6546f086b066",
   "metadata": {},
   "outputs": [
    {
     "name": "stdout",
     "output_type": "stream",
     "text": [
      "Product of the integers of num_list : 3628800\n",
      "Product of the integers of num_list with initial value 10 : 3628800\n"
     ]
    }
   ],
   "source": [
    "# Examples to understand the reduce() function  \n",
    "from functools import reduce  \n",
    "  \n",
    "# Function that returns the sum of two numbers  \n",
    "def product(a, b):  \n",
    "    return a * b  \n",
    "  \n",
    "# Our Iterable  \n",
    "num_list = [1, 2, 3, 4, 5, 6, 7, 8, 9, 10]  \n",
    "  \n",
    "# add function is passed as the first argument, and num_list is passed as the second argument  \n",
    "prod = reduce(product, num_list)  \n",
    "print(f\"Product of the integers of num_list : {prod}\")  \n",
    "  \n",
    "# Passing 10 as an initial value  \n",
    "sum = reduce(product, num_list, 10)  \n",
    "print(f\"Product of the integers of num_list with initial value 10 : {prod}\")"
   ]
  },
  {
   "cell_type": "code",
   "execution_count": 6,
   "id": "0b05ffa7-7b8d-43d2-b196-d048faea1db5",
   "metadata": {},
   "outputs": [],
   "source": [
    "# 3. create a Python program that uses `reduce()` to find the maximum element in a list of numbers."
   ]
  },
  {
   "cell_type": "code",
   "execution_count": 7,
   "id": "f3de5e8e-83e0-4c30-a55a-48ca3c1a5339",
   "metadata": {},
   "outputs": [
    {
     "name": "stdout",
     "output_type": "stream",
     "text": [
      "100\n"
     ]
    }
   ],
   "source": [
    "from functools import reduce\n",
    "lst = [20, 10, 20, 4, 100]\n",
    "largest_elem = reduce(max, lst)\n",
    "print(largest_elem)\n"
   ]
  },
  {
   "cell_type": "code",
   "execution_count": 8,
   "id": "ff3ef229-1427-49db-8ddb-7bd8d8bec6d0",
   "metadata": {},
   "outputs": [],
   "source": [
    "# 4.How can you use the `reduce()` function to concatenate a list of strings into a single string?"
   ]
  },
  {
   "cell_type": "code",
   "execution_count": 9,
   "id": "76f99dea-d661-49d1-8f88-e237e60534f4",
   "metadata": {},
   "outputs": [
    {
     "name": "stdout",
     "output_type": "stream",
     "text": [
      "apple, banana, orange, grape\n"
     ]
    }
   ],
   "source": [
    "from functools import reduce\n",
    "\n",
    "l = ['hello', 'geek', 'have','a', 'geeky', 'day']\n",
    "\n",
    "# Concatenate all items in list to a string\n",
    "res = reduce(lambda x, y: x + ' ' + y, map(str, l))\n",
    "print(res)\n"
   ]
  },
  {
   "cell_type": "code",
   "execution_count": 10,
   "id": "5b762bbd-1dec-4669-acde-3f91f394e27e",
   "metadata": {},
   "outputs": [],
   "source": [
    "# 5.Write a Python program that calculates the factorial of a number using the `reduce()` function."
   ]
  },
  {
   "cell_type": "code",
   "execution_count": 39,
   "id": "21260d18-5aa9-434c-a342-831b1f1a6325",
   "metadata": {},
   "outputs": [
    {
     "name": "stdin",
     "output_type": "stream",
     "text": [
      "Enter Number 4\n"
     ]
    },
    {
     "name": "stdout",
     "output_type": "stream",
     "text": [
      "24\n"
     ]
    }
   ],
   "source": [
    "n = int(input(\"Enter Number\"))\n",
    "import functools  \n",
    "def factorial(n):\n",
    "    if n == 0:\n",
    "        return 1\n",
    "    else:\n",
    "        return functools.reduce(lambda x,y: x*y , range(1,n+1))\n",
    "\n",
    "print(factorial(n))"
   ]
  },
  {
   "cell_type": "code",
   "execution_count": 40,
   "id": "2fdab944-a7f2-48da-a181-20da4bfe2635",
   "metadata": {},
   "outputs": [],
   "source": [
    "# 6.Create a Python program that uses `reduce()` to find the GCD (Greatest Common Divisor) of a list of numbers."
   ]
  },
  {
   "cell_type": "code",
   "execution_count": 43,
   "id": "65ef3de9-2a0b-4536-b0ae-3f775f2a0295",
   "metadata": {},
   "outputs": [
    {
     "name": "stdout",
     "output_type": "stream",
     "text": [
      "4\n"
     ]
    }
   ],
   "source": [
    "import numpy as np\n",
    "\n",
    "arr = np.array([20, 8, 32, 36, 16])\n",
    "\n",
    "x = np.gcd.reduce(arr)\n",
    "\n",
    "print(x)"
   ]
  },
  {
   "cell_type": "code",
   "execution_count": 44,
   "id": "16947a67-695e-4cd5-ae67-ca1e785b3b32",
   "metadata": {},
   "outputs": [],
   "source": [
    "# 7.Write a Python program that uses the `reduce()` function to find the sum of the digits of a given number."
   ]
  },
  {
   "cell_type": "code",
   "execution_count": 47,
   "id": "7a6625ab-cd08-492e-915d-5418152da337",
   "metadata": {},
   "outputs": [
    {
     "name": "stdout",
     "output_type": "stream",
     "text": [
      "15\n"
     ]
    }
   ],
   "source": [
    " \n",
    "data = [1, 2, 3, 4, 5]  \n",
    "# Using list comprehension to aggregate elements  \n",
    "result3 = reduce(lambda x, y: x + y, data)  # Result 120  \n",
    "print(result3)"
   ]
  },
  {
   "cell_type": "code",
   "execution_count": 48,
   "id": "988e28f3-7f65-4e23-b50e-513b6927cd3f",
   "metadata": {},
   "outputs": [],
   "source": [
    "# 1.Explain the purpose of the `filter()` function in Python and provide an example of how it can be used to filter elements from an iterable"
   ]
  },
  {
   "cell_type": "code",
   "execution_count": 50,
   "id": "6e70ad27-9eaa-4144-b941-0ef2787d5fef",
   "metadata": {},
   "outputs": [],
   "source": [
    "#Filter() is a built-in function in Python. The filter function can be applied to an iterable such as a list or a dictionary and create a new iterator. #This new iterator can filter out certain specific elements based on the condition that you provide very efficiently."
   ]
  },
  {
   "cell_type": "code",
   "execution_count": 51,
   "id": "0cbffb13-0e2b-47d5-ad33-c7944397f511",
   "metadata": {},
   "outputs": [
    {
     "name": "stdout",
     "output_type": "stream",
     "text": [
      "Gone Girl\n",
      "The Silent Patient\n"
     ]
    }
   ],
   "source": [
    "# Example \n",
    "books = [\n",
    "\n",
    "   {\"Title\":\"Angels and Demons\", \"Author\":\"Dan Brown\", \"Price\":500},\n",
    "\n",
    "   {\"Title\":\"Gone Girl\", \"Author\":\"Gillian Flynn\", \"Price\":730},\n",
    "\n",
    "   {\"Title\":\"The Silent Patient\", \"Author\":\"Alex Michaelidis\", \"Price\":945},\n",
    "\n",
    "   {\"Title\":\"Before I Go To Sleep\", \"Author\":\"S.J Watson\", \"Price\":400}\n",
    "\n",
    "   ]\n",
    "\n",
    "def func(book):\n",
    "\n",
    "   if book[\"Price\"] > 500:\n",
    "\n",
    "       return True\n",
    "\n",
    "   else:\n",
    "\n",
    "       return False\n",
    "\n",
    "filtered_object = filter(func, books)\n",
    "\n",
    "for d in filtered_object:\n",
    "\n",
    "   print(dict(d)[\"Title\"])"
   ]
  },
  {
   "cell_type": "code",
   "execution_count": 52,
   "id": "c691ce88-465e-4583-969e-2f255abc0bea",
   "metadata": {},
   "outputs": [],
   "source": [
    "# 2.Write a Python program that uses the `filter()` function to select even numbers from a list of integers."
   ]
  },
  {
   "cell_type": "code",
   "execution_count": 53,
   "id": "ff301ee0-7099-4c7a-bce1-8df77e70dfad",
   "metadata": {},
   "outputs": [
    {
     "name": "stdout",
     "output_type": "stream",
     "text": [
      "Original List : [2, 5, 7, 8, 10, 13, 16]\n",
      "Filtered List : [2, 8, 10, 16]\n"
     ]
    }
   ],
   "source": [
    "def even(x):\n",
    "    return x % 2 == 0\n",
    " \n",
    "a = [2, 5, 7, 8, 10, 13, 16]\n",
    " \n",
    "result = filter(even, a)\n",
    "print('Original List :', a)\n",
    "print('Filtered List :', list(result))\n"
   ]
  },
  {
   "cell_type": "code",
   "execution_count": 54,
   "id": "5756c812-d337-4135-aeb6-a396d018a080",
   "metadata": {},
   "outputs": [],
   "source": [
    "# 3.Create a Python program that uses the `filter()` function to select names that start with a specific letter from a list of strings."
   ]
  },
  {
   "cell_type": "code",
   "execution_count": 55,
   "id": "3228951d-fb04-43ab-bf4c-a519e52e3833",
   "metadata": {},
   "outputs": [
    {
     "name": "stdout",
     "output_type": "stream",
     "text": [
      "The original list : ['sapple', 'orange', 'smango', 'grape']\n",
      "The list without prefix s : ['orange', 'grape']\n",
      "The list with prefix s : ['sapple', 'smango']\n"
     ]
    }
   ],
   "source": [
    "# Python3 code to demonstrate\n",
    "# Prefix Separation\n",
    "# Using filter() + startswith() + lambda\n",
    "\n",
    "# initializing list\n",
    "test_list = ['sapple', 'orange', 'smango', 'grape']\n",
    "\n",
    "# initializing start Prefix\n",
    "start_letter = 's'\n",
    "\n",
    "# printing original list\n",
    "print(\"The original list : \" + str(test_list))\n",
    "\n",
    "# using filter() + startswith() + lambda\n",
    "# Prefix Separation\n",
    "with_s = list(filter(lambda x: x.startswith(start_letter), test_list))\n",
    "without_s = list(filter(lambda x: not x.startswith(start_letter), test_list))\n",
    "\n",
    "# print result\n",
    "print(\"The list without prefix s : \" + str(without_s))\n",
    "print(\"The list with prefix s : \" + str(with_s))\n"
   ]
  },
  {
   "cell_type": "code",
   "execution_count": 1,
   "id": "1c8470e6-e994-4794-8ada-eb9b79a7dc51",
   "metadata": {},
   "outputs": [],
   "source": [
    "# Write a Python program that uses the `filter()` function to select prime numbers from a list of integers"
   ]
  },
  {
   "cell_type": "code",
   "execution_count": 72,
   "id": "8e2d0753-caf5-4233-b692-952f3ad7b7e7",
   "metadata": {},
   "outputs": [
    {
     "name": "stdin",
     "output_type": "stream",
     "text": [
      "Enter value of n:  20\n"
     ]
    },
    {
     "name": "stdout",
     "output_type": "stream",
     "text": [
      "[2, 3, 5, 7, 11, 13, 17, 19]\n"
     ]
    }
   ],
   "source": [
    "def find_prime(n):\n",
    "       if n <=1:\n",
    "         return False\n",
    "       else:\n",
    "          for i in range(2, n):\n",
    "              if n % i == 0:\n",
    "                  return False\n",
    "       return True\n",
    "n = int(input(\"Enter value of n: \"))\n",
    "x = filter(find_prime, range(n)) #you can give random no list too\n",
    "print(list(x))"
   ]
  },
  {
   "cell_type": "code",
   "execution_count": null,
   "id": "5e6f3d5c-a42e-4182-896b-c35a729d3efc",
   "metadata": {},
   "outputs": [],
   "source": [
    "# How can you use the `filter()` function to remove None values from a list in Python?\n"
   ]
  },
  {
   "cell_type": "code",
   "execution_count": 73,
   "id": "55df8787-c4f6-4a24-9fe5-686d205ca34b",
   "metadata": {},
   "outputs": [
    {
     "name": "stdout",
     "output_type": "stream",
     "text": [
      "The original list is : [1, None, 4, None, None, 5, 8, None, False]\n",
      "List after removal of None values : [1, 4, 5, 8, False]\n"
     ]
    }
   ],
   "source": [
    "# initializing list\n",
    "test_list = [1, None, 4, None, None, 5, 8, None, False]\n",
    "\n",
    "# printing original list\n",
    "print (\"The original list is : \" + str(test_list))\n",
    "\n",
    "# using filter()\n",
    "# to remove None values in list\n",
    "res = list(filter(lambda item: item is not None, test_list))\n",
    "\n",
    "# printing result\n",
    "print (\"List after removal of None values : \" + str(res))\n"
   ]
  },
  {
   "cell_type": "code",
   "execution_count": 74,
   "id": "dc31665a-25df-4c5e-ad31-735253a87b24",
   "metadata": {},
   "outputs": [],
   "source": [
    "# Create a Python program that uses `filter()` to select words longer than a certain length from a list of strings."
   ]
  },
  {
   "cell_type": "code",
   "execution_count": 85,
   "id": "cf30c18e-e866-40d0-a0e7-7ca2ff22735c",
   "metadata": {},
   "outputs": [
    {
     "name": "stdout",
     "output_type": "stream",
     "text": [
      "['hello']\n"
     ]
    }
   ],
   "source": [
    "data = ['hello', 'communication', 'be', 'dog', 'test']\n",
    "filtered_list = [x for x in data if len(x) > 4 and len(x) < 8]\n",
    "print(filtered_list)"
   ]
  },
  {
   "cell_type": "code",
   "execution_count": 86,
   "id": "de5b5773-b29c-4feb-af41-66cbbcae2779",
   "metadata": {},
   "outputs": [],
   "source": [
    "# Write a Python program that uses the `filter()` function to select elements greater than a specified threshold from a list of values.\n"
   ]
  },
  {
   "cell_type": "code",
   "execution_count": 87,
   "id": "a237dbe9-cc68-4710-b145-4ae47e47a16c",
   "metadata": {},
   "outputs": [
    {
     "name": "stdout",
     "output_type": "stream",
     "text": [
      "The original list : ['gfg', 'is', 'best', 'for', 'geeks']\n",
      "The above Threshold size strings are : ['best', 'geeks']\n"
     ]
    }
   ],
   "source": [
    "test_list = ['gfg', 'is', 'best', 'for', 'geeks']\n",
    " \n",
    "# Printing original list\n",
    "print(\"The original list : \" + str(test_list))\n",
    " \n",
    "# Initialize Threshold\n",
    "thres = 4\n",
    " \n",
    "# Filter above Threshold size Strings\n",
    "# using list comprehension + len()\n",
    "res = [ele for ele in test_list if len(ele) >= thres]\n",
    " \n",
    "# Printing result\n",
    "print(\"The above Threshold size strings are : \" + str(res))"
   ]
  },
  {
   "cell_type": "code",
   "execution_count": 88,
   "id": "2f2d6acc-830c-4a25-b5f3-c0a2da04d1d7",
   "metadata": {},
   "outputs": [],
   "source": [
    "# Recursion\n",
    "# Explain the concept of recursion in Python. How does it differ from iteration?\n"
   ]
  },
  {
   "cell_type": "code",
   "execution_count": 89,
   "id": "53860141-e09e-4d79-a9e3-69640ffcd902",
   "metadata": {},
   "outputs": [],
   "source": [
    "# Recursion is when a function calls itself within its code, thus repeatedly executing the instructions present\n",
    "#inside it. Iteration is when a loop repeatedly executes the set of instructions like \"for\" loops and \"while\" loops."
   ]
  },
  {
   "cell_type": "code",
   "execution_count": 90,
   "id": "23d81051-35a1-4bc9-8747-0c708570543b",
   "metadata": {},
   "outputs": [],
   "source": [
    "# Write a Python program to calculate the factorial of a number using recursion.\n"
   ]
  },
  {
   "cell_type": "code",
   "execution_count": 93,
   "id": "4fb9a65c-971c-4ea0-8098-d57d5d4df28b",
   "metadata": {},
   "outputs": [
    {
     "name": "stdin",
     "output_type": "stream",
     "text": [
      "Enter number 10\n"
     ]
    },
    {
     "name": "stdout",
     "output_type": "stream",
     "text": [
      "The factorial of 10 is 3628800\n"
     ]
    }
   ],
   "source": [
    "# Factorial of a number using recursion\n",
    "\n",
    "def recur_factorial(n):\n",
    "   if n == 1:\n",
    "       return n\n",
    "   else:\n",
    "       return n*recur_factorial(n-1)\n",
    "\n",
    "num = int(input(\"Enter number\"))\n",
    "\n",
    "# check if the number is negative\n",
    "if num < 0:\n",
    "   print(\"Sorry, factorial does not exist for negative numbers\")\n",
    "elif num == 0:\n",
    "   print(\"The factorial of 0 is 1\")\n",
    "else:\n",
    "   print(\"The factorial of\", num, \"is\", recur_factorial(num))\n"
   ]
  },
  {
   "cell_type": "code",
   "execution_count": 94,
   "id": "de724d9d-5c1f-4189-8acb-f7616d554d6c",
   "metadata": {},
   "outputs": [],
   "source": [
    "# Create a recursive Python function to find the nth Fibonacci number.\n"
   ]
  },
  {
   "cell_type": "code",
   "execution_count": 1,
   "id": "6a19aac6-f92d-4b0c-b016-181b5e1c638e",
   "metadata": {},
   "outputs": [
    {
     "name": "stdin",
     "output_type": "stream",
     "text": [
      "Enter Number 12\n"
     ]
    },
    {
     "name": "stdout",
     "output_type": "stream",
     "text": [
      "89\n"
     ]
    }
   ],
   "source": [
    "# Function for nth Fibonacci number\n",
    "\n",
    "def Fibonacci(n):\n",
    "\tif n<= 0:\n",
    "\t\tprint(\"Incorrect input\")\n",
    "\t# First Fibonacci number is 0\n",
    "\telif n == 1:\n",
    "\t\treturn 0\n",
    "\t# Second Fibonacci number is 1\n",
    "\telif n == 2:\n",
    "\t\treturn 1\n",
    "\telse:\n",
    "\t\treturn Fibonacci(n-1)+Fibonacci(n-2)\n",
    "\n",
    "# Driver Program\n",
    "\n",
    "print(Fibonacci(int(input(\"Enter Number\"))))\n"
   ]
  },
  {
   "cell_type": "code",
   "execution_count": null,
   "id": "15990fd5-1560-4e83-b099-7e6f6fa8f61c",
   "metadata": {},
   "outputs": [],
   "source": [
    "# Write a recursive Python function to calculate the sum of all elements in a list."
   ]
  },
  {
   "cell_type": "code",
   "execution_count": 1,
   "id": "39b3a426-103c-47ed-a499-3ca4df44567c",
   "metadata": {},
   "outputs": [
    {
     "name": "stdin",
     "output_type": "stream",
     "text": [
      "Enter the number of elements for list: 4\n",
      "Enter element: 12\n",
      "Enter element: 12\n",
      "Enter element: 12\n",
      "Enter element: 12\n"
     ]
    },
    {
     "name": "stdout",
     "output_type": "stream",
     "text": [
      "The list is:\n",
      "[12, 12, 12, 12]\n",
      "Sum of items in list:\n",
      "48\n"
     ]
    }
   ],
   "source": [
    "def sum_arr(arr,size):\n",
    "   if (size == 0):\n",
    "     return 0\n",
    "   else:\n",
    "     return arr[size-1] + sum_arr(arr,size-1)\n",
    "n=int(input(\"Enter the number of elements for list:\"))\n",
    "a=[]\n",
    "for i in range(0,n):\n",
    "    element=int(input(\"Enter element:\"))\n",
    "    a.append(element)\n",
    "print(\"The list is:\")\n",
    "print(a)\n",
    "print(\"Sum of items in list:\")\n",
    "b=sum_arr(a,n)\n",
    "print(b)"
   ]
  },
  {
   "cell_type": "code",
   "execution_count": 2,
   "id": "0330ec14-209c-4bbb-9409-fa7cf89b14a3",
   "metadata": {},
   "outputs": [],
   "source": [
    "# How can you prevent a recursive function from running indefinitely, causing a stack overflow error?"
   ]
  },
  {
   "cell_type": "code",
   "execution_count": 3,
   "id": "b188a78f-9a68-4213-9ce8-e90ca35b8bb0",
   "metadata": {},
   "outputs": [],
   "source": [
    "#  if you runtime system has a stack smaller than defined , the overflow will occur. So, to prevent stackover \n",
    "#  flow in recursive functions, you should define a depth of recursion to fit your runtime max stack depth. \n",
    "#  It will vary between different systems."
   ]
  },
  {
   "cell_type": "code",
   "execution_count": 4,
   "id": "3e38d762-c2bf-4e4c-a20a-cc9cee5b03b8",
   "metadata": {},
   "outputs": [],
   "source": [
    "# Create a recursive Python function to find the greatest common divisor (GCD) of two numbers using the Euclidean algorithm."
   ]
  },
  {
   "cell_type": "code",
   "execution_count": 5,
   "id": "f57651d0-8d83-412c-b439-28af88163005",
   "metadata": {},
   "outputs": [
    {
     "name": "stdout",
     "output_type": "stream",
     "text": [
      "5\n"
     ]
    }
   ],
   "source": [
    "def gcd(a, b):\n",
    "   if a == b:\n",
    "      return a\n",
    "   elif a < b:\n",
    "      return gcd(b, a)\n",
    "   else:\n",
    "      return gcd(b, a - b)\n",
    "\n",
    "a = 25\n",
    "b = 45\n",
    "print(gcd(a, b))"
   ]
  },
  {
   "cell_type": "code",
   "execution_count": 6,
   "id": "d2700124-2aa3-4cf9-8720-6436570db5d0",
   "metadata": {},
   "outputs": [],
   "source": [
    "# Write a recursive Python function to reverse a string."
   ]
  },
  {
   "cell_type": "code",
   "execution_count": 7,
   "id": "9b4effc6-f3e0-49c3-9c0f-d0c68f670703",
   "metadata": {},
   "outputs": [
    {
     "name": "stdout",
     "output_type": "stream",
     "text": [
      "The original string is : Geeksforgeeks\n",
      "The reversed string(using recursion) is : skeegrofskeeG\n"
     ]
    }
   ],
   "source": [
    "def reverse(s):\n",
    "\tif len(s) == 0:\n",
    "\t\treturn s\n",
    "\telse:\n",
    "\t\treturn reverse(s[1:]) + s[0]\n",
    "\n",
    "\n",
    "s = \"Geeksforgeeks\"\n",
    "\n",
    "print(\"The original string is : \", end=\"\")\n",
    "print(s)\n",
    "\n",
    "print(\"The reversed string(using recursion) is : \", end=\"\")\n",
    "print(reverse(s))\n",
    "\n"
   ]
  },
  {
   "cell_type": "code",
   "execution_count": 8,
   "id": "3d9280d0-346d-4266-9571-b1d495b9f3ba",
   "metadata": {},
   "outputs": [],
   "source": [
    "# Create a recursive Python function to calculate the power of a number (x^n)."
   ]
  },
  {
   "cell_type": "code",
   "execution_count": 9,
   "id": "c56c6393-3837-4154-8258-cb84e142329e",
   "metadata": {},
   "outputs": [
    {
     "name": "stdout",
     "output_type": "stream",
     "text": [
      "25\n"
     ]
    }
   ],
   "source": [
    "# Python3 code to recursively find\n",
    "# the power of a number\n",
    "\n",
    "# Recursive function to find N^P.\n",
    "def power(N, P):\n",
    "\n",
    "\t# If power is 0 then return 1\n",
    "\t# if condition is true\n",
    "\t# only then it will enter it,\n",
    "\t# otherwise not\n",
    "\tif P == 0:\n",
    "\t\treturn 1\n",
    "\n",
    "\t# Recurrence relation\n",
    "\treturn (N*power(N, P-1))\n",
    "\n",
    "\n",
    "# Driver code\n",
    "if __name__ == '__main__':\n",
    "\tN = 5\n",
    "\tP = 2\n",
    "\n",
    "\tprint(power(N, P))\n"
   ]
  },
  {
   "cell_type": "code",
   "execution_count": 10,
   "id": "a0563899-6c66-471b-85aa-9b6b9ef54b47",
   "metadata": {},
   "outputs": [],
   "source": [
    "# Write a recursive Python function to find all permutations of a given string.\n"
   ]
  },
  {
   "cell_type": "code",
   "execution_count": 19,
   "id": "96cb63a4-c661-462b-a1b7-f65ff66161b1",
   "metadata": {},
   "outputs": [
    {
     "name": "stdout",
     "output_type": "stream",
     "text": [
      "abc\n",
      "acb\n",
      "bac\n",
      "bca\n",
      "cab\n",
      "cba\n"
     ]
    }
   ],
   "source": [
    "def perms(s):        \n",
    "    if(len(s)==1): return [s]\n",
    "    result=[]\n",
    "    for i,v in enumerate(s):\n",
    "        result += [v+p for p in perms(s[:i]+s[i+1:])]\n",
    "    return result\n",
    "\n",
    "\n",
    "perms('abc')\n",
    "\n",
    "['abc', 'acb', 'bac', 'bca', 'cab', 'cba']\n",
    "\n",
    "\n",
    "print('\\n'.join(perms('abc')))"
   ]
  },
  {
   "cell_type": "code",
   "execution_count": 20,
   "id": "d0e27302-5371-41c9-8070-7a474bc9e00c",
   "metadata": {},
   "outputs": [],
   "source": [
    "# Write a recursive Python function to check if a string is a palindrome."
   ]
  },
  {
   "cell_type": "code",
   "execution_count": 22,
   "id": "c21e8ab6-bbc2-4200-884b-b2780ece60b9",
   "metadata": {},
   "outputs": [
    {
     "name": "stdin",
     "output_type": "stream",
     "text": [
      "Enter your string:  ALA\n"
     ]
    },
    {
     "name": "stdout",
     "output_type": "stream",
     "text": [
      "ALA is palindrome\n"
     ]
    }
   ],
   "source": [
    "def is_palindrome(l,r,S):\n",
    "    if l>=r:\n",
    "        return True\n",
    "    if S[l] != S[r]:\n",
    "        return False\n",
    "    return is_palindrome(l+1,r-1,S)\n",
    "\n",
    "my_string = input('Enter your string: ')\n",
    "l = 0\n",
    "r = len(my_string)-1\n",
    "\n",
    "check = is_palindrome(l,r,my_string)\n",
    "\n",
    "if check:\n",
    "    print(f\"{my_string} is palindrome\")\n",
    "else:\n",
    "    print(f\"{my_string} is not palindrome\")"
   ]
  },
  {
   "cell_type": "code",
   "execution_count": 23,
   "id": "72b2f88a-0303-4f74-8509-7b536da4b857",
   "metadata": {},
   "outputs": [],
   "source": [
    "# Create a recursive Python function to generate all possible combinations of a list of elements.\n"
   ]
  },
  {
   "cell_type": "code",
   "execution_count": 25,
   "id": "d50bd557-b5bb-424a-996a-7ef549112c0c",
   "metadata": {},
   "outputs": [
    {
     "name": "stdout",
     "output_type": "stream",
     "text": [
      "[[], [1], [2], [1, 2], [3], [1, 3], [2, 3], [1, 2, 3]]\n"
     ]
    }
   ],
   "source": [
    "def combinations(l):\n",
    "    if l:\n",
    "      result = combinations(l[:-1])\n",
    "      return result + [c + [l[-1]] for c in result]\n",
    "    else:\n",
    "      return [[]]\n",
    "\n",
    "print(combinations([1,2,3]))\n",
    "# [[], [1], [2], [1, 2], [3], [1, 3], [2, 3], [1, 2, 3]]"
   ]
  },
  {
   "cell_type": "code",
   "execution_count": 26,
   "id": "83b044a3-20cd-4d90-912a-835c913b59bb",
   "metadata": {},
   "outputs": [],
   "source": [
    "# Basics of Functions:\n"
   ]
  },
  {
   "cell_type": "code",
   "execution_count": 27,
   "id": "61faa5fb-1aff-45d1-84d3-a8a69e073f91",
   "metadata": {},
   "outputs": [],
   "source": [
    "# What is a function in Python, and why is it used?\n"
   ]
  },
  {
   "cell_type": "code",
   "execution_count": 28,
   "id": "cdc30ce5-d589-4809-83c1-6debc2686f39",
   "metadata": {},
   "outputs": [],
   "source": [
    "# Functions in Python -> we can use functions in python to bundle a set of instructions that you want to use \n",
    "# repeatedly or that, because of their complexity, are better self-contained in a sub-program and called when\n",
    "# needed. That means that a function is a piece of code written to carry out a specified task."
   ]
  },
  {
   "cell_type": "code",
   "execution_count": 29,
   "id": "a802e7e3-0973-4cf2-9f66-c292e5bff504",
   "metadata": {},
   "outputs": [],
   "source": [
    "# 2 How do you define a function in Python? Provide an example.\n"
   ]
  },
  {
   "cell_type": "code",
   "execution_count": 30,
   "id": "46644031-5add-44a8-9235-f4ec5c901992",
   "metadata": {},
   "outputs": [],
   "source": [
    "def function_name(parameters):\n",
    "    \"\"\"docstring\"\"\"\n",
    "    statement1\n",
    "    statement2\n",
    "    ...\n",
    "    ...\n",
    "    return [expr]"
   ]
  },
  {
   "cell_type": "code",
   "execution_count": 31,
   "id": "8bb2fa15-4911-4a34-9662-23813fa86ef9",
   "metadata": {},
   "outputs": [],
   "source": [
    "# Explain the difference between a function definition and a function call.\n"
   ]
  },
  {
   "cell_type": "code",
   "execution_count": 32,
   "id": "a2e91ac7-85dd-4a02-8116-8c0ee92497e8",
   "metadata": {},
   "outputs": [],
   "source": [
    "# Defining a function is a lot like building a house - you give it a name, you state how to use it (the house has doors etc) and you say clearly in computer code what the function does (similar to defining the layout of the house - which rooms exist, what connects to what).\n",
    "# Calling a function is a lot like living in a house - you are actually making use of the function, passing the data it needs, executing the code inside the function and using the values it generates - this is similar to making use of a house that is already built"
   ]
  },
  {
   "cell_type": "code",
   "execution_count": 33,
   "id": "2a9f3be6-2804-4ea6-ad26-fd0c55105e97",
   "metadata": {},
   "outputs": [],
   "source": [
    "# Write a Python program that defines a function to calculate the sum of two numbers and then calls the function.\n"
   ]
  },
  {
   "cell_type": "code",
   "execution_count": 34,
   "id": "ddd5dcec-a057-4619-b6ee-ac5a2a0b75e8",
   "metadata": {},
   "outputs": [
    {
     "name": "stdout",
     "output_type": "stream",
     "text": [
      "The sum is 80\n"
     ]
    }
   ],
   "source": [
    "def add_num(a,b):#function for addition\n",
    "    sum=a+b;\n",
    "    return sum; #return value\n",
    "num1=25  #variable declaration\n",
    "num2=55\n",
    "print(\"The sum is\",add_num(num1,num2))"
   ]
  },
  {
   "cell_type": "code",
   "execution_count": 35,
   "id": "025e8a1b-1985-4a59-ad5c-54cb71fbf056",
   "metadata": {},
   "outputs": [],
   "source": [
    "# What is a function signature, and what information does it typically include?\n"
   ]
  },
  {
   "cell_type": "code",
   "execution_count": 36,
   "id": "c2a9febc-7ec1-43d7-96c2-843418b36f98",
   "metadata": {},
   "outputs": [],
   "source": [
    "# A function signature consists of the function prototype. It specifies the general information about a function \n",
    "# like the name, scope and parameters. Many programming languages use name mangling in order to pass along more \n",
    "# semantic information from the compilers to the linkers."
   ]
  },
  {
   "cell_type": "code",
   "execution_count": 37,
   "id": "4f754fa8-79f2-4636-ae61-693bb769987b",
   "metadata": {},
   "outputs": [],
   "source": [
    "# Create a Python function that takes two arguments and returns their product"
   ]
  },
  {
   "cell_type": "code",
   "execution_count": 39,
   "id": "f42381cc-07bc-44bd-a65a-9da21583c3bd",
   "metadata": {},
   "outputs": [
    {
     "name": "stdout",
     "output_type": "stream",
     "text": [
      "The product is 1375\n"
     ]
    }
   ],
   "source": [
    "def add_num(a,b):#function for addition\n",
    "    sum=a*b;\n",
    "    return sum; #return value\n",
    "num1=25  #variable declaration\n",
    "num2=55\n",
    "print(\"The product is\",add_num(num1,num2))"
   ]
  },
  {
   "cell_type": "code",
   "execution_count": 40,
   "id": "f435da15-8677-46f7-8739-f5a5d5d20a7d",
   "metadata": {},
   "outputs": [],
   "source": [
    "# Function Parameters and Arguments:\n"
   ]
  },
  {
   "cell_type": "code",
   "execution_count": 41,
   "id": "66d5eda0-0cfc-424f-b702-0f86d6b5236c",
   "metadata": {},
   "outputs": [],
   "source": [
    "# Explain the concepts of formal parameters and actual arguments in Python functions"
   ]
  },
  {
   "cell_type": "code",
   "execution_count": 42,
   "id": "92b0ea8b-35ce-4951-ad46-a2f488e5a3ec",
   "metadata": {},
   "outputs": [],
   "source": [
    "#Actual Parameters vary from Formal Parameters in that Actual Parameters are values supplied to the function\n",
    "# when it is invoked, whereas Formal Parameters are variables declared by the function that get values when the\n",
    "# function is called."
   ]
  },
  {
   "cell_type": "code",
   "execution_count": 43,
   "id": "f45ef183-244a-4711-91ad-793546440a83",
   "metadata": {},
   "outputs": [],
   "source": [
    "# Write a Python program that defines a function with default argument values.\n"
   ]
  },
  {
   "cell_type": "code",
   "execution_count": 44,
   "id": "fdf23c50-03c5-498a-b80e-d7f5bad89d9a",
   "metadata": {},
   "outputs": [
    {
     "name": "stdout",
     "output_type": "stream",
     "text": [
      "Hello, world\n"
     ]
    }
   ],
   "source": [
    "def greet(name=\"world\"):\n",
    "   print(\"Hello,\", name)\n",
    "greet()"
   ]
  },
  {
   "cell_type": "code",
   "execution_count": 45,
   "id": "102aecfe-5813-4c71-b73c-6f755f2d5bca",
   "metadata": {},
   "outputs": [],
   "source": [
    "# How do you use keyword arguments in Python function calls? Provide an example."
   ]
  },
  {
   "cell_type": "code",
   "execution_count": 46,
   "id": "6c973f1e-9301-46f3-bf81-ccbeab8ab2bd",
   "metadata": {},
   "outputs": [
    {
     "name": "stdout",
     "output_type": "stream",
     "text": [
      "FemCode is working on an Edpresso\n"
     ]
    }
   ],
   "source": [
    "def team(name, project):\n",
    "    print(name, \"is working on an\", project)\n",
    "\n",
    "team(project = \"Edpresso\", name = 'FemCode')"
   ]
  },
  {
   "cell_type": "code",
   "execution_count": 47,
   "id": "e64b68ee-e639-4580-a87d-31cd2f59828b",
   "metadata": {},
   "outputs": [],
   "source": [
    "# Create a Python function that accepts a variable number of arguments and calculates their sum.\n"
   ]
  },
  {
   "cell_type": "code",
   "execution_count": 48,
   "id": "20eeffc5-ff8b-4ccb-9cc3-530911a674ca",
   "metadata": {},
   "outputs": [
    {
     "data": {
      "text/plain": [
       "10"
      ]
     },
     "execution_count": 48,
     "metadata": {},
     "output_type": "execute_result"
    }
   ],
   "source": [
    "def my_func(*args):\n",
    "...     return sum(args)\n",
    "...\n",
    ">>> my_func(1,2,3,4)"
   ]
  },
  {
   "cell_type": "code",
   "execution_count": 49,
   "id": "6116f4c4-5739-4493-9c8c-eb50c46c45e1",
   "metadata": {},
   "outputs": [],
   "source": [
    "# What is the purpose of the `*args` and `**kwargs` syntax in function parameter lists?\n"
   ]
  },
  {
   "cell_type": "code",
   "execution_count": 50,
   "id": "037a5f33-3ba8-4265-8013-eba3e5a688d9",
   "metadata": {},
   "outputs": [],
   "source": [
    "# *args passes variable number of non-keyworded arguments and on which operation of the tuple can be performed. **kwargs passes variable \n",
    "# number of keyword arguments dictionary to function on which operation of a dictionary can be performed."
   ]
  },
  {
   "cell_type": "code",
   "execution_count": 1,
   "id": "23e3628b-41d3-4f3d-bfad-d709c501dec1",
   "metadata": {},
   "outputs": [],
   "source": [
    "# Return Values and Scoping:\n"
   ]
  },
  {
   "cell_type": "code",
   "execution_count": null,
   "id": "32e7e362-af23-41b7-b269-46c1e0fc465c",
   "metadata": {},
   "outputs": [],
   "source": [
    "# Describe the role of the `return` statement in Python functions and provide examples."
   ]
  },
  {
   "cell_type": "code",
   "execution_count": 10,
   "id": "13bf4424-43a8-46a3-9836-d723754a5807",
   "metadata": {},
   "outputs": [],
   "source": [
    "# Ans -> A return statement is used to end the execution of the function call and “returns” the result \n",
    "\n",
    "def cube(x):\n",
    "   r=x**3\n",
    "   return r"
   ]
  },
  {
   "cell_type": "code",
   "execution_count": 11,
   "id": "26ba9922-b359-4158-9791-9b37e9be7b5c",
   "metadata": {},
   "outputs": [
    {
     "data": {
      "text/plain": [
       "64"
      ]
     },
     "execution_count": 11,
     "metadata": {},
     "output_type": "execute_result"
    }
   ],
   "source": [
    "cube(4)\n"
   ]
  },
  {
   "cell_type": "code",
   "execution_count": 12,
   "id": "3cc9d5c3-0155-4a4a-a1e5-2b52023cb91c",
   "metadata": {},
   "outputs": [],
   "source": [
    "# Explain the concept of variable scope in Python, including local and global variables."
   ]
  },
  {
   "cell_type": "code",
   "execution_count": 22,
   "id": "c07aa7f7-780f-4ed3-87b7-53b125644d49",
   "metadata": {},
   "outputs": [
    {
     "name": "stdout",
     "output_type": "stream",
     "text": [
      "Python\n",
      "test\n",
      "Tutorialspoint\n"
     ]
    }
   ],
   "source": [
    "# Ans -> Python Global variables are those which are not defined inside any function and have a global scope whereas Python local variables are those\n",
    "     #  which are defined inside a function and their scope is limited to that function only\n",
    "    \n",
    "def func():\n",
    "   x = \"Python\"   # local variable\n",
    "   s = \"test\"     # local variable\n",
    "   print(x)\n",
    "   print(s)\n",
    "   s = \"Tutorialspoint\"   # Global Variable\n",
    "   print(s)\n",
    "func()\n",
    "   "
   ]
  },
  {
   "cell_type": "code",
   "execution_count": 23,
   "id": "4d5e463c-72ca-4793-8248-af84170737cc",
   "metadata": {},
   "outputs": [],
   "source": [
    "# Write a Python program that demonstrates the use of global variables within functions."
   ]
  },
  {
   "cell_type": "code",
   "execution_count": 24,
   "id": "048a75bd-ad0c-449c-b3b3-1be5f2664798",
   "metadata": {},
   "outputs": [
    {
     "name": "stdout",
     "output_type": "stream",
     "text": [
      "Python is awesome\n"
     ]
    }
   ],
   "source": [
    "x = \"awesome\"\n",
    "\n",
    "def myfunc():\n",
    "  print(\"Python is \" + x)\n",
    "\n",
    "myfunc()"
   ]
  },
  {
   "cell_type": "code",
   "execution_count": 25,
   "id": "ab94af89-046b-4cb8-9b03-f20a5c78797d",
   "metadata": {},
   "outputs": [],
   "source": [
    "# Create a Python function that calculates the factorial of a number and returns it."
   ]
  },
  {
   "cell_type": "code",
   "execution_count": 26,
   "id": "5d83ad23-34b5-485e-bf54-6e3d02f82997",
   "metadata": {},
   "outputs": [
    {
     "name": "stdin",
     "output_type": "stream",
     "text": [
      "Input a number to compute the factiorial :  4\n"
     ]
    },
    {
     "name": "stdout",
     "output_type": "stream",
     "text": [
      "24\n"
     ]
    }
   ],
   "source": [
    "def factorial(n):\n",
    "    if n == 0:\n",
    "        return 1\n",
    "    else:\n",
    "        return n * factorial(n-1)\n",
    "n=int(input(\"Input a number to compute the factiorial : \"))\n",
    "print(factorial(n))"
   ]
  },
  {
   "cell_type": "code",
   "execution_count": 27,
   "id": "7c78fc30-792f-4c93-9066-c63e8e598eb1",
   "metadata": {},
   "outputs": [],
   "source": [
    "# How can you access variables defined outside a function from within the function?"
   ]
  },
  {
   "cell_type": "code",
   "execution_count": 28,
   "id": "c1ad6ccb-76c1-4b87-b015-eaa36ff28bda",
   "metadata": {},
   "outputs": [
    {
     "name": "stdout",
     "output_type": "stream",
     "text": [
      "Python is awesome\n"
     ]
    }
   ],
   "source": [
    "x = \"awesome\"\n",
    "\n",
    "def myfunc():\n",
    "  print(\"Python is \" + x)\n",
    "\n",
    "myfunc()"
   ]
  },
  {
   "cell_type": "code",
   "execution_count": 29,
   "id": "400bacf8-a404-4008-b0ed-e642b9071d7c",
   "metadata": {},
   "outputs": [],
   "source": [
    "# Lambda Functions and Higher-Order Functions:\n"
   ]
  },
  {
   "cell_type": "code",
   "execution_count": null,
   "id": "2284db7e-461d-4b09-99f0-6566ac2df979",
   "metadata": {},
   "outputs": [],
   "source": [
    "# What are lambda functions in Python, and when are they typically used?"
   ]
  },
  {
   "cell_type": "code",
   "execution_count": 33,
   "id": "77da733d-80fe-451b-8e19-09377e915420",
   "metadata": {},
   "outputs": [
    {
     "name": "stdout",
     "output_type": "stream",
     "text": [
      "GEEKSFORGEEKS\n"
     ]
    }
   ],
   "source": [
    "# Ans -> Python Lambda Functions are anonymous function means that the function is without a name.\n",
    "       # the lambda keyword is used to define an anonymous function in Python\n",
    "    \n",
    "str1 = 'GeeksforGeeks'\n",
    "\n",
    "upper = lambda string: str1.upper()\n",
    "print(upper(str1))\n",
    "    "
   ]
  },
  {
   "cell_type": "code",
   "execution_count": 34,
   "id": "bee999b8-922d-4329-8210-a35be1bb4cbe",
   "metadata": {},
   "outputs": [],
   "source": [
    "# Write a Python program that uses lambda functions to sort a list of tuples based on the second element."
   ]
  },
  {
   "cell_type": "code",
   "execution_count": 35,
   "id": "a11d4e9e-2178-4e0d-97ff-dd712bed711d",
   "metadata": {},
   "outputs": [
    {
     "name": "stdout",
     "output_type": "stream",
     "text": [
      "Original list of tuples:\n",
      "[('English', 88), ('Science', 90), ('Maths', 97), ('Social sciences', 82)]\n",
      "\n",
      "Sorting the List of Tuples:\n",
      "[('Social sciences', 82), ('English', 88), ('Science', 90), ('Maths', 97)]\n"
     ]
    }
   ],
   "source": [
    "subject_marks = [('English', 88), ('Science', 90), ('Maths', 97), ('Social sciences', 82)]\n",
    "print(\"Original list of tuples:\")\n",
    "print(subject_marks)\n",
    "subject_marks.sort(key = lambda x: x[1])\n",
    "print(\"\\nSorting the List of Tuples:\")\n",
    "print(subject_marks)"
   ]
  },
  {
   "cell_type": "code",
   "execution_count": 36,
   "id": "999b5d17-de03-4054-bf05-1e3c65d00214",
   "metadata": {},
   "outputs": [],
   "source": [
    "# Explain the concept of higher-order functions in Python, and provide an example."
   ]
  },
  {
   "cell_type": "code",
   "execution_count": 37,
   "id": "d1e8a93f-df42-49ad-8acc-ae7c5bcf6e27",
   "metadata": {},
   "outputs": [
    {
     "name": "stdout",
     "output_type": "stream",
     "text": [
      "<map object at 0x7f42b1705900>\n",
      "[1, 4, 9, 16, 25]\n"
     ]
    }
   ],
   "source": [
    "# Higher-order functions are functions that take a function as a parameter and/or return a function as an output. \n",
    "# A few useful higher-order functions are map() , filter() , and reduce() . \n",
    "\n",
    "num=[1,2,3,4,5]\n",
    "square=map(lambda x: x**2 , num)\n",
    "print (square)\n",
    "#Output: <map object at 0x0152E4D8>\n",
    "print (list(square))"
   ]
  },
  {
   "cell_type": "code",
   "execution_count": 38,
   "id": "ac39f055-34ae-4823-9424-ac058dc582a6",
   "metadata": {},
   "outputs": [],
   "source": [
    "# Create a Python function that takes a list of numbers and a function as arguments, applying the function to each element in the list."
   ]
  },
  {
   "cell_type": "code",
   "execution_count": 39,
   "id": "b26327b3-a4aa-498e-8b05-a38cfa390069",
   "metadata": {},
   "outputs": [
    {
     "name": "stdout",
     "output_type": "stream",
     "text": [
      "[2, 4, 6]\n"
     ]
    }
   ],
   "source": [
    "def double(integer):\n",
    "\treturn integer*2\n",
    "\n",
    "\n",
    "# driver code\n",
    "integer_list = [1, 2, 3]\n",
    "\n",
    "# Map method returns a map object\n",
    "# so we cast it into list using list()\n",
    "output_list = list(map(double, integer_list))\n",
    "\n",
    "print(output_list)\n"
   ]
  },
  {
   "cell_type": "code",
   "execution_count": 40,
   "id": "3455cf9b-c2f8-4580-b20e-f1a48ce6b582",
   "metadata": {},
   "outputs": [],
   "source": [
    "# Built-in Functions:\n",
    "# Describe the role of built-in functions like `len()`, `max()`, and `min()` in Python."
   ]
  },
  {
   "cell_type": "code",
   "execution_count": 41,
   "id": "ca016b33-4541-4a41-8336-5ee806715958",
   "metadata": {},
   "outputs": [],
   "source": [
    "# Ans -> built-in functions are used to compute the length, maximum and minimum of the values as passed in its argument"
   ]
  },
  {
   "cell_type": "code",
   "execution_count": 42,
   "id": "751be0ef-0bcd-4a29-b895-5c2a15b133af",
   "metadata": {},
   "outputs": [],
   "source": [
    "# Write a Python program that uses the `map()` function to apply a function to each element of a list."
   ]
  },
  {
   "cell_type": "code",
   "execution_count": 43,
   "id": "051f1336-3410-4310-a867-9bf39548c91d",
   "metadata": {},
   "outputs": [
    {
     "name": "stdout",
     "output_type": "stream",
     "text": [
      "[2, 4, 6]\n"
     ]
    }
   ],
   "source": [
    "def double(integer):\n",
    "\treturn integer*2\n",
    "\n",
    "\n",
    "# driver code\n",
    "integer_list = [1, 2, 3]\n",
    "\n",
    "# Map method returns a map object\n",
    "# so we cast it into list using list()\n",
    "output_list = list(map(double, integer_list))\n",
    "\n",
    "print(output_list)\n"
   ]
  },
  {
   "cell_type": "code",
   "execution_count": 44,
   "id": "e465e685-ecaf-4260-9613-f97e1808bc65",
   "metadata": {},
   "outputs": [],
   "source": [
    "# How does the `filter()` function work in Python, and when would you use it?"
   ]
  },
  {
   "cell_type": "code",
   "execution_count": 45,
   "id": "97ff6a0c-4804-4915-810b-bbbd52610a44",
   "metadata": {},
   "outputs": [],
   "source": [
    "# Ans -> Filter() is a built-in function in Python. The filter function can be applied to an iterable such as a list or a dictionary and create a new \n",
    "#     -> iterator. This new iterator can filter out certain specific elements based on the condition that you provide"
   ]
  },
  {
   "cell_type": "code",
   "execution_count": 46,
   "id": "54781cfe-0a19-4153-a152-3ae6020c7721",
   "metadata": {},
   "outputs": [],
   "source": [
    "# Create a Python program that uses the `reduce()` function to find the product of all elements in a list."
   ]
  },
  {
   "cell_type": "code",
   "execution_count": 47,
   "id": "a1b9c787-812e-46c7-9624-d8c1b5630f70",
   "metadata": {},
   "outputs": [
    {
     "name": "stdout",
     "output_type": "stream",
     "text": [
      "6000\n",
      "120\n"
     ]
    }
   ],
   "source": [
    "from functools import reduce\n",
    "lst1 = [10, 20, 30]\n",
    "lst2 = [4, 5, 6]\n",
    " \n",
    "res1 = reduce((lambda x, y: x * y), lst1)\n",
    "res2 = reduce((lambda x, y: x * y), lst2)\n",
    "print(res1)\n",
    "print(res2)"
   ]
  },
  {
   "cell_type": "code",
   "execution_count": 48,
   "id": "8c0f55b6-0357-448e-b171-6ece9b230cd3",
   "metadata": {},
   "outputs": [],
   "source": [
    "# Function Documentation and Best Practices:\n",
    "\n",
    "# Explain the purpose of docstrings in Python functions and how to write them.\n"
   ]
  },
  {
   "cell_type": "code",
   "execution_count": 51,
   "id": "8bb0548b-ec7f-4c3f-aee5-d7afaa642543",
   "metadata": {},
   "outputs": [],
   "source": [
    "# Python docstrings are the string literals that appear right after the definition of a function, method, class, or module. Let's take an example.\n",
    "\n",
    "def square(n):\n",
    "    '''Takes in a number n, returns the square of n'''\n",
    "    return n**2"
   ]
  },
  {
   "cell_type": "code",
   "execution_count": 52,
   "id": "2aa75005-ed23-43b8-a943-149d804fde46",
   "metadata": {},
   "outputs": [
    {
     "data": {
      "text/plain": [
       "16"
      ]
     },
     "execution_count": 52,
     "metadata": {},
     "output_type": "execute_result"
    }
   ],
   "source": [
    "square(4)"
   ]
  },
  {
   "cell_type": "code",
   "execution_count": 53,
   "id": "af2ce849-a313-4b76-b71a-5f446eb84504",
   "metadata": {},
   "outputs": [],
   "source": [
    "# Describe some best practices for naming functions and variables in Python, including naming conventions and guidelines."
   ]
  },
  {
   "cell_type": "code",
   "execution_count": null,
   "id": "09332156-b222-40eb-ba2a-7e45925c9de2",
   "metadata": {},
   "outputs": [],
   "source": [
    "# Ans -> Function names should be lowercase, with words separated by underscores as necessary to improve readability.\n",
    "\n",
    "#       Variable names follow the same convention as function names."
   ]
  }
 ],
 "metadata": {
  "kernelspec": {
   "display_name": "Python 3 (ipykernel)",
   "language": "python",
   "name": "python3"
  },
  "language_info": {
   "codemirror_mode": {
    "name": "ipython",
    "version": 3
   },
   "file_extension": ".py",
   "mimetype": "text/x-python",
   "name": "python",
   "nbconvert_exporter": "python",
   "pygments_lexer": "ipython3",
   "version": "3.10.8"
  }
 },
 "nbformat": 4,
 "nbformat_minor": 5
}

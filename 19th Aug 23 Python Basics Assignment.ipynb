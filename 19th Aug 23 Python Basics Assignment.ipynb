{
 "cells": [
  {
   "cell_type": "code",
   "execution_count": 10,
   "id": "8ffa36ed-ca3d-47cb-ad1c-78e2436a361e",
   "metadata": {},
   "outputs": [],
   "source": [
    "\n",
    "#1. Declare two variables, `x` and `y`, and assign them integer values. Swap the\n",
    "#values of these variables without using any temporary variable."
   ]
  },
  {
   "cell_type": "code",
   "execution_count": 16,
   "id": "d27446fa-b1c5-4b7d-9696-8ee068c51427",
   "metadata": {},
   "outputs": [],
   "source": [
    "# Declaration of x & y\n",
    "x = 20\n",
    "y = 10 "
   ]
  },
  {
   "cell_type": "code",
   "execution_count": 17,
   "id": "6670f343-fa7a-4b47-87b2-bd4849a13d75",
   "metadata": {},
   "outputs": [],
   "source": [
    "x = x+y"
   ]
  },
  {
   "cell_type": "code",
   "execution_count": 18,
   "id": "a98d8e2b-88f2-4432-9b96-5a3e5058ad98",
   "metadata": {},
   "outputs": [],
   "source": [
    "y = x-y"
   ]
  },
  {
   "cell_type": "code",
   "execution_count": 19,
   "id": "1cfdcd56-c655-4b8e-b676-cf798ac9b45d",
   "metadata": {},
   "outputs": [],
   "source": [
    "x = x-y"
   ]
  },
  {
   "cell_type": "code",
   "execution_count": 20,
   "id": "a8fa5369-084b-465a-b046-a2d6a8aacecc",
   "metadata": {},
   "outputs": [
    {
     "data": {
      "text/plain": [
       "10"
      ]
     },
     "execution_count": 20,
     "metadata": {},
     "output_type": "execute_result"
    }
   ],
   "source": [
    "x"
   ]
  },
  {
   "cell_type": "code",
   "execution_count": 21,
   "id": "69b41467-4d7c-4eb7-887f-3a24d2e2007c",
   "metadata": {},
   "outputs": [
    {
     "data": {
      "text/plain": [
       "20"
      ]
     },
     "execution_count": 21,
     "metadata": {},
     "output_type": "execute_result"
    }
   ],
   "source": [
    "y"
   ]
  },
  {
   "cell_type": "code",
   "execution_count": 22,
   "id": "17eba98f-80da-4920-95c2-3919af00e6f1",
   "metadata": {},
   "outputs": [],
   "source": [
    "#After Swaping the number x = 10 & y = 20  this the final output\n"
   ]
  },
  {
   "cell_type": "code",
   "execution_count": null,
   "id": "2e692bf4-c929-46a3-bb6e-799bde962468",
   "metadata": {},
   "outputs": [],
   "source": [
    "#2. Create a program that calculates the area of a rectangle. Take the length and\n",
    "#width as inputs from the user and store them in variables. Calculate and\n",
    "#display the area. \n"
   ]
  },
  {
   "cell_type": "code",
   "execution_count": 29,
   "id": "c4322ace-d03c-4b64-9a81-2fd966e92b04",
   "metadata": {},
   "outputs": [
    {
     "name": "stdin",
     "output_type": "stream",
     "text": [
      "Enter length of the of rectangle:  12\n",
      "Enter width of the rectangle:  4\n"
     ]
    },
    {
     "name": "stdout",
     "output_type": "stream",
     "text": [
      "Area of the Rectangle is:  48 Sqr\n"
     ]
    }
   ],
   "source": [
    "length = int(input(\"Enter length of the of rectangle: \"))\n",
    "width = int(input(\"Enter width of the rectangle: \"))\n",
    "print(\"Area of the Rectangle is: \",length*width,'Sqr')"
   ]
  },
  {
   "cell_type": "code",
   "execution_count": null,
   "id": "c2bfabc0-f32b-4724-bbc5-e7f6f2f81d88",
   "metadata": {},
   "outputs": [],
   "source": [
    "#3. Write a Python program that converts temperatures from Celsius to\n",
    "#Fahrenheit. Take the temperature in Celsius as input, store it in a variable,\n",
    "#convert it to Fahrenheit, and display the result.\n"
   ]
  },
  {
   "cell_type": "code",
   "execution_count": 33,
   "id": "92bb07bc-7f1d-48bf-b319-3a4f49241f56",
   "metadata": {},
   "outputs": [
    {
     "name": "stdin",
     "output_type": "stream",
     "text": [
      "Enter the Temperature in Celsius :\n",
      " 15\n"
     ]
    },
    {
     "name": "stdout",
     "output_type": "stream",
     "text": [
      "Temperature in Fahrenheit : 59.0\n"
     ]
    }
   ],
   "source": [
    "celsius = int(input(\"Enter the Temperature in Celsius :\\n\"))\n",
    "fahrenheit = (1.8 * celsius) + 32\n",
    "print(\"Temperature in Fahrenheit :\", fahrenheit)"
   ]
  },
  {
   "cell_type": "code",
   "execution_count": 34,
   "id": "04a89346-1f10-4eb6-85ac-88e90e86e42c",
   "metadata": {},
   "outputs": [],
   "source": [
    "#String Based Questions\n",
    "#1. Write a Python program that takes a string as input and prints the length of\n",
    "#the string."
   ]
  },
  {
   "cell_type": "code",
   "execution_count": 40,
   "id": "353cb564-30b8-4802-9783-a3c9fd331099",
   "metadata": {},
   "outputs": [
    {
     "name": "stdin",
     "output_type": "stream",
     "text": [
      "Enter an String Subhash Kumar\n"
     ]
    },
    {
     "name": "stdout",
     "output_type": "stream",
     "text": [
      "13\n"
     ]
    }
   ],
   "source": [
    "s1 = input(\"Enter an String\")\n",
    "print(len(s1))"
   ]
  },
  {
   "cell_type": "code",
   "execution_count": null,
   "id": "f0d130e8-ecd5-4dd1-a14d-3556a612d9a5",
   "metadata": {},
   "outputs": [],
   "source": [
    "#2. Create a program that takes a sentence from the user and counts the number of vowels (a, e, i, o, u) in the string."
   ]
  },
  {
   "cell_type": "code",
   "execution_count": 44,
   "id": "b0afd7db-16ac-499d-a416-1cf2710b503d",
   "metadata": {},
   "outputs": [
    {
     "name": "stdin",
     "output_type": "stream",
     "text": [
      "Enter the string : Subhash Kumar Yadav\n"
     ]
    },
    {
     "name": "stdout",
     "output_type": "stream",
     "text": [
      "Total vowels are :6\n"
     ]
    }
   ],
   "source": [
    "#take user input\n",
    "String = input('Enter the string :')\n",
    "count = 0\n",
    "String = String.lower()\n",
    "for i in String:\n",
    "    if i == 'a' or i == 'e' or i == 'i' or i == 'o' or i == 'u':\n",
    "        #if True\n",
    "        count+=1\n",
    "#check if any vowel found\n",
    "if count == 0:\n",
    "    print('No vowels found')\n",
    "else:\n",
    "    print('Total vowels are :' + str(count))"
   ]
  },
  {
   "cell_type": "code",
   "execution_count": 45,
   "id": "bbefde45-c0f4-448e-862f-9d232e4e65cc",
   "metadata": {},
   "outputs": [],
   "source": [
    "# 3. Given a string, reverse the order of characters using string slicing and print the reversed string."
   ]
  },
  {
   "cell_type": "code",
   "execution_count": 52,
   "id": "da76249a-a267-4b8c-971a-17d20a8c4e07",
   "metadata": {},
   "outputs": [],
   "source": [
    "string = \"Subhash\""
   ]
  },
  {
   "cell_type": "code",
   "execution_count": 53,
   "id": "9f30914f-b6b3-49e1-bf7e-dca5fd991422",
   "metadata": {},
   "outputs": [
    {
     "data": {
      "text/plain": [
       "'Subhash'"
      ]
     },
     "execution_count": 53,
     "metadata": {},
     "output_type": "execute_result"
    }
   ],
   "source": [
    "string"
   ]
  },
  {
   "cell_type": "code",
   "execution_count": 58,
   "id": "122dbae8-c0c9-4c80-bbf0-ed6a1978c83d",
   "metadata": {},
   "outputs": [
    {
     "name": "stdout",
     "output_type": "stream",
     "text": [
      "hsahbuS\n"
     ]
    }
   ],
   "source": [
    "print(string[::-1])"
   ]
  },
  {
   "cell_type": "code",
   "execution_count": 59,
   "id": "5159f969-c2ba-4275-9843-4e33f4c92626",
   "metadata": {},
   "outputs": [],
   "source": [
    "# 4. Write a program that takes a string as input and checks if it is a palindrome"
   ]
  },
  {
   "cell_type": "code",
   "execution_count": 65,
   "id": "4b913b0b-0ae0-484e-ba25-677677e3275d",
   "metadata": {},
   "outputs": [
    {
     "name": "stdin",
     "output_type": "stream",
     "text": [
      "Enter an String malayalam\n"
     ]
    },
    {
     "name": "stdout",
     "output_type": "stream",
     "text": [
      "malayalam ->Given String is Palindrome\n"
     ]
    }
   ],
   "source": [
    "x = input(\"Enter an String\") \n",
    " \n",
    "w = \"\"\n",
    "for i in x:\n",
    "    w = i + w\n",
    " \n",
    "if (x == w):\n",
    "    print(x,\"->Given String is Palindrome\")\n",
    "else:\n",
    "    print(x,\"->Given String is not Palindrome\")"
   ]
  },
  {
   "cell_type": "code",
   "execution_count": 66,
   "id": "ff1a6db8-0d60-4520-bab3-220fe754dd97",
   "metadata": {},
   "outputs": [],
   "source": [
    "# 5. Create a program that takes a string as input and removes all the spaces from it. Print the modified string without spaces."
   ]
  },
  {
   "cell_type": "code",
   "execution_count": 71,
   "id": "32e6a45e-adf4-4bf4-87e1-b80acfa63ebb",
   "metadata": {},
   "outputs": [
    {
     "name": "stdin",
     "output_type": "stream",
     "text": [
      "Enter string value Subhash Kumar yadav\n"
     ]
    },
    {
     "name": "stdout",
     "output_type": "stream",
     "text": [
      "SubhashKumaryadav\n"
     ]
    }
   ],
   "source": [
    "string = input(\"Enter string value\")\n",
    "print(string.replace(\" \", \"\"))"
   ]
  },
  {
   "cell_type": "code",
   "execution_count": null,
   "id": "2dd75563-4ead-49e2-a0cb-bba0a4b9ae38",
   "metadata": {},
   "outputs": [],
   "source": []
  }
 ],
 "metadata": {
  "kernelspec": {
   "display_name": "Python 3 (ipykernel)",
   "language": "python",
   "name": "python3"
  },
  "language_info": {
   "codemirror_mode": {
    "name": "ipython",
    "version": 3
   },
   "file_extension": ".py",
   "mimetype": "text/x-python",
   "name": "python",
   "nbconvert_exporter": "python",
   "pygments_lexer": "ipython3",
   "version": "3.10.8"
  }
 },
 "nbformat": 4,
 "nbformat_minor": 5
}

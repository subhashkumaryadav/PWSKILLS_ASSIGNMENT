{
 "cells": [
  {
   "cell_type": "code",
   "execution_count": 1,
   "id": "6efdfce8-74d3-45ed-8d72-8a5126c47c90",
   "metadata": {},
   "outputs": [],
   "source": [
    "# 1. Write a Python program to print the numbers from 1 to 10 using a `for` loop."
   ]
  },
  {
   "cell_type": "code",
   "execution_count": 2,
   "id": "41e270a0-2072-4707-bc5a-871b588c2fb3",
   "metadata": {},
   "outputs": [
    {
     "name": "stdout",
     "output_type": "stream",
     "text": [
      "1\n",
      "2\n",
      "3\n",
      "4\n",
      "5\n",
      "6\n",
      "7\n",
      "8\n",
      "9\n",
      "10\n"
     ]
    }
   ],
   "source": [
    "for i in range(1, 11):\n",
    "    print(i)"
   ]
  },
  {
   "cell_type": "code",
   "execution_count": 3,
   "id": "6900e11a-b998-4d92-8faa-46a9300ffc0e",
   "metadata": {},
   "outputs": [],
   "source": [
    "# 2. Create a program that calculates the sum of all numbers in a list using a `for` loop."
   ]
  },
  {
   "cell_type": "code",
   "execution_count": 5,
   "id": "9867ad69-72fa-4adc-9ee8-394e3fd16e59",
   "metadata": {},
   "outputs": [
    {
     "name": "stdin",
     "output_type": "stream",
     "text": [
      "Please enter the number:  10\n"
     ]
    },
    {
     "name": "stdout",
     "output_type": "stream",
     "text": [
      "55\n"
     ]
    }
   ],
   "source": [
    "# Sum of natural numbers up to num\n",
    "\n",
    "num = int(input(\"Please enter the number: \"))\n",
    "\n",
    "sum = 0\n",
    "\n",
    "for value in range(1, num + 1):\n",
    "    sum = sum + value\n",
    "    \n",
    "print(sum)"
   ]
  },
  {
   "cell_type": "code",
   "execution_count": 6,
   "id": "afb63fa5-193b-433a-ae96-39758f171a9a",
   "metadata": {},
   "outputs": [],
   "source": [
    "# 3. Write a program to print the characters of a string in reverse order using a `for` loop."
   ]
  },
  {
   "cell_type": "code",
   "execution_count": 9,
   "id": "f7c09321-c573-4134-b691-24e4e4d67e4c",
   "metadata": {},
   "outputs": [
    {
     "name": "stdin",
     "output_type": "stream",
     "text": [
      "Enter String Subhash Kumar\n"
     ]
    },
    {
     "name": "stdout",
     "output_type": "stream",
     "text": [
      "The original string is : Subhash Kumar\n",
      "The reversed string(using loops) is : ramuK hsahbuS\n"
     ]
    }
   ],
   "source": [
    "s = input(\"Enter String\")\n",
    "def reverse(s):\n",
    "\tstr = \"\"\n",
    "\tfor i in s:\n",
    "\t\tstr = i + str\n",
    "\treturn str\n",
    "\n",
    "print(\"The original string is : \", end=\"\")\n",
    "print(s)\n",
    "\n",
    "print(\"The reversed string(using loops) is : \", end=\"\")\n",
    "print(reverse(s))\n"
   ]
  },
  {
   "cell_type": "code",
   "execution_count": 10,
   "id": "fb0c54a5-cf95-4cb2-92fc-a21e39ddb2e0",
   "metadata": {},
   "outputs": [],
   "source": [
    "# 4. Develop a program that finds the factorial of a given number using a `for` loop."
   ]
  },
  {
   "cell_type": "code",
   "execution_count": 29,
   "id": "f3599569-d664-4620-a752-8b0409d0907f",
   "metadata": {},
   "outputs": [
    {
     "name": "stdin",
     "output_type": "stream",
     "text": [
      "enter a number:  10\n"
     ]
    },
    {
     "name": "stdout",
     "output_type": "stream",
     "text": [
      "factorial of is  10\n",
      "factorial of is  90\n",
      "factorial of is  720\n",
      "factorial of is  5040\n",
      "factorial of is  30240\n",
      "factorial of is  151200\n",
      "factorial of is  604800\n",
      "factorial of is  1814400\n",
      "factorial of is  3628800\n"
     ]
    }
   ],
   "source": [
    "num = int(input(\"enter a number: \"))\n",
    "fac = 1\n",
    "for i in range(1, num):\n",
    "    fac = fac *num\n",
    "    num = num-1\n",
    "    print(\"factorial of is \", fac)"
   ]
  },
  {
   "cell_type": "code",
   "execution_count": 30,
   "id": "f8e80516-f021-4d23-8303-6de9c3316ddf",
   "metadata": {},
   "outputs": [],
   "source": [
    "# 5. Create a program to print the multiplication table of a given number using a `for` loop."
   ]
  },
  {
   "cell_type": "code",
   "execution_count": 32,
   "id": "9006e704-510e-4bf0-98f8-16d19fb7dd51",
   "metadata": {},
   "outputs": [
    {
     "name": "stdin",
     "output_type": "stream",
     "text": [
      "Enter the number  10\n"
     ]
    },
    {
     "name": "stdout",
     "output_type": "stream",
     "text": [
      "The Multiplication Table of:  10\n",
      "10 x 1 = 10\n",
      "10 x 2 = 20\n",
      "10 x 3 = 30\n",
      "10 x 4 = 40\n",
      "10 x 5 = 50\n",
      "10 x 6 = 60\n",
      "10 x 7 = 70\n",
      "10 x 8 = 80\n",
      "10 x 9 = 90\n",
      "10 x 10 = 100\n"
     ]
    }
   ],
   "source": [
    "number = int(input (\"Enter the number \"))      \n",
    "# We are using \"for loop\" to iterate the multiplication 10 times       \n",
    "print (\"The Multiplication Table of: \", number)    \n",
    "for count in range(1, 11):      \n",
    "   print (number, 'x', count, '=', number * count)    "
   ]
  },
  {
   "cell_type": "code",
   "execution_count": 33,
   "id": "31f169f5-49bf-434d-b8c2-9225e3b9fcda",
   "metadata": {},
   "outputs": [],
   "source": [
    "# 6.Write a program that counts the number of even and odd numbers in a list using a `for` loop."
   ]
  },
  {
   "cell_type": "code",
   "execution_count": 34,
   "id": "a6c8e95f-583c-4663-9cab-16a7bd0c6c19",
   "metadata": {},
   "outputs": [
    {
     "name": "stdout",
     "output_type": "stream",
     "text": [
      "Even numbers in the list:  3\n",
      "Odd numbers in the list:  4\n"
     ]
    }
   ],
   "source": [
    "# list of numbers\n",
    "list1 = [10, 21, 4, 45, 66, 93, 1]\n",
    " \n",
    "even_count, odd_count = 0, 0\n",
    " \n",
    "# iterating each number in list\n",
    "for num in list1:\n",
    " \n",
    "    # checking condition\n",
    "    if num % 2 == 0:\n",
    "        even_count += 1\n",
    " \n",
    "    else:\n",
    "        odd_count += 1\n",
    " \n",
    "print(\"Even numbers in the list: \", even_count)\n",
    "print(\"Odd numbers in the list: \", odd_count)"
   ]
  },
  {
   "cell_type": "code",
   "execution_count": 35,
   "id": "1a73f514-9070-468a-91bc-432341a1dda8",
   "metadata": {},
   "outputs": [],
   "source": [
    "# 7. Develop a program that prints the squares of numbers from 1 to 5 using a `for` loop."
   ]
  },
  {
   "cell_type": "code",
   "execution_count": 37,
   "id": "3279d348-75b8-4700-9271-3e2e694b90e7",
   "metadata": {},
   "outputs": [
    {
     "name": "stdin",
     "output_type": "stream",
     "text": [
      "Enter the nth number in the series: 5\n"
     ]
    },
    {
     "name": "stdout",
     "output_type": "stream",
     "text": [
      "The squares of the first 5 numbers is:\n",
      "1 * 1 = 1\n",
      "2 * 2 = 4\n",
      "3 * 3 = 9\n",
      "4 * 4 = 16\n",
      "5 * 5 = 25\n"
     ]
    }
   ],
   "source": [
    "n = int(input(\"Enter the nth number in the series:\"))\n",
    "\n",
    "i = 1\n",
    "\n",
    "print(\"The squares of the first\" , n , \"numbers is:\")\n",
    "\n",
    "while(i <= n):\n",
    "\n",
    "   print(i , \"*\" , i , \"=\", (i*i))\n",
    "\n",
    "   i += 1"
   ]
  },
  {
   "cell_type": "code",
   "execution_count": null,
   "id": "206d5410-f56c-450a-84ec-cb896ec7c3f8",
   "metadata": {},
   "outputs": [],
   "source": []
  },
  {
   "cell_type": "code",
   "execution_count": 49,
   "id": "e20d43c2-9700-4177-9469-e1486fea7248",
   "metadata": {},
   "outputs": [
    {
     "name": "stdin",
     "output_type": "stream",
     "text": [
      "Enter string: .san\n"
     ]
    },
    {
     "name": "stdout",
     "output_type": "stream",
     "text": [
      "0\n",
      "1\n",
      "2\n",
      "3\n"
     ]
    }
   ],
   "source": [
    "string=input(\"Enter string:\")\n",
    "count=0\n",
    "for i in string:\n",
    "    print(count)\n",
    "    count=count+1\n",
    "    "
   ]
  },
  {
   "cell_type": "code",
   "execution_count": 50,
   "id": "e6123f3d-a3b4-431b-bb0a-74c59c97ed82",
   "metadata": {},
   "outputs": [],
   "source": [
    "# 9. Write a program that calculates the average of a list of numbers using a `for` loop."
   ]
  },
  {
   "cell_type": "code",
   "execution_count": 51,
   "id": "efc6e8b3-34c0-4fce-8e17-dc921a3fd8e1",
   "metadata": {},
   "outputs": [
    {
     "name": "stdout",
     "output_type": "stream",
     "text": [
      "Average of the list = 35.75\n"
     ]
    }
   ],
   "source": [
    "# Python code to get average of list\n",
    "def Average(lst):\n",
    "    sum_of_list = 0\n",
    "    for i in range(len(lst)):\n",
    "        sum_of_list += lst[i]\n",
    "    average = sum_of_list/len(lst)\n",
    "    return average\n",
    " \n",
    " \n",
    "# Driver Code\n",
    "lst = [15, 9, 55, 41, 35, 20, 62, 49]\n",
    "average = Average(lst)\n",
    "print(\"Average of the list =\", round(average, 2))"
   ]
  },
  {
   "cell_type": "code",
   "execution_count": 52,
   "id": "1a14d5ab-b9d3-49ab-93ae-04081f3aee7d",
   "metadata": {},
   "outputs": [],
   "source": [
    "# 10. Develop a program that prints the first `n` Fibonacci numbers using a `for` loop."
   ]
  },
  {
   "cell_type": "code",
   "execution_count": 54,
   "id": "7962c743-bfa2-41ed-829f-edfc7f8ad558",
   "metadata": {},
   "outputs": [
    {
     "name": "stdin",
     "output_type": "stream",
     "text": [
      "Number of elements in Fibonacci Series, N, (N>=2) :  10\n"
     ]
    },
    {
     "name": "stdout",
     "output_type": "stream",
     "text": [
      "[0, 1, 1, 2, 3, 5, 8, 13, 21, 34]\n"
     ]
    }
   ],
   "source": [
    "N = int(input(\"Number of elements in Fibonacci Series, N, (N>=2) : \"))\n",
    "\n",
    "#initialize the list with starting elements: 0, 1\n",
    "fibonacciSeries = [0,1]\n",
    "\n",
    "if N>2:\n",
    "\tfor i in range(2, N):\n",
    "\t\t#next elment in series = sum of its previous two numbers\n",
    "\t\tnextElement = fibonacciSeries[i-1] + fibonacciSeries[i-2]\n",
    "\t\t#append the element to the series\n",
    "\t\tfibonacciSeries.append(nextElement)\n",
    "\n",
    "print(fibonacciSeries)"
   ]
  },
  {
   "cell_type": "code",
   "execution_count": 55,
   "id": "020c9acc-f8a4-4788-95e7-8580b3790891",
   "metadata": {},
   "outputs": [],
   "source": [
    "# 11. Write a program to check if a given list contains any duplicates using a `for` loop."
   ]
  },
  {
   "cell_type": "code",
   "execution_count": 56,
   "id": "3ad14b56-95c2-4486-9962-1f727234e288",
   "metadata": {},
   "outputs": [
    {
     "name": "stdout",
     "output_type": "stream",
     "text": [
      "[1, 2, 5, 9]\n"
     ]
    }
   ],
   "source": [
    "lis = [1, 2, 1, 2, 3, 4, 5, 1, 1, 2, 5, 6, 7, 8, 9, 9]\n",
    " \n",
    "uniqueList = []\n",
    "duplicateList = []\n",
    " \n",
    "for i in lis:\n",
    "    if i not in uniqueList:\n",
    "        uniqueList.append(i)\n",
    "    elif i not in duplicateList:\n",
    "        duplicateList.append(i)\n",
    " \n",
    "print(duplicateList)"
   ]
  },
  {
   "cell_type": "code",
   "execution_count": 57,
   "id": "ac9bcdff-f926-4c05-8dd2-b0e1cffb889e",
   "metadata": {},
   "outputs": [],
   "source": [
    "# 12. Create a program that prints the prime numbers in a given range using a `for` loop."
   ]
  },
  {
   "cell_type": "code",
   "execution_count": 59,
   "id": "b8944df9-c7ba-4f5e-9c5b-3207fbb93086",
   "metadata": {},
   "outputs": [
    {
     "name": "stdin",
     "output_type": "stream",
     "text": [
      "Enter upper limit:  20\n"
     ]
    },
    {
     "name": "stdout",
     "output_type": "stream",
     "text": [
      "2\n",
      "3\n",
      "5\n",
      "7\n",
      "11\n",
      "13\n",
      "17\n",
      "19\n"
     ]
    }
   ],
   "source": [
    "r=int(input(\"Enter upper limit: \"))\n",
    "for a in range(2,r+1):\n",
    "    k=0\n",
    "    for i in range(2,a//2+1):\n",
    "        if(a%i==0):\n",
    "            k=k+1\n",
    "    if(k<=0):\n",
    "        print(a)\n"
   ]
  },
  {
   "cell_type": "code",
   "execution_count": 60,
   "id": "9f01c2cc-8946-4203-8a82-a32a47112a82",
   "metadata": {},
   "outputs": [],
   "source": [
    "# 13. Develop a program that counts the number of vowels in a string using a `for` loop."
   ]
  },
  {
   "cell_type": "code",
   "execution_count": 62,
   "id": "756b3f93-1695-489e-baa6-f750c56c6b44",
   "metadata": {},
   "outputs": [
    {
     "name": "stdin",
     "output_type": "stream",
     "text": [
      "Enter string: SUBHASH KUMAR\n"
     ]
    },
    {
     "name": "stdout",
     "output_type": "stream",
     "text": [
      "Number of vowels are:\n",
      "4\n"
     ]
    }
   ],
   "source": [
    "string=input(\"Enter string:\")\n",
    "vowels=0\n",
    "for i in string:\n",
    "      if(i=='a' or i=='e' or i=='i' or i=='o' or i=='u' or i=='A' or i=='E' or i=='I' or i=='O' or i=='U'):\n",
    "            vowels=vowels+1\n",
    "print(\"Number of vowels are:\")\n",
    "print(vowels)"
   ]
  },
  {
   "cell_type": "code",
   "execution_count": 63,
   "id": "e1c3a146-3f3f-4901-98b7-41c3939249d3",
   "metadata": {},
   "outputs": [],
   "source": [
    "# 14. Write a program to find the maximum element in a 2D list using a nested `for` loop."
   ]
  },
  {
   "cell_type": "code",
   "execution_count": 64,
   "id": "24af8153-7523-4c01-b0a5-6f5fb0573358",
   "metadata": {},
   "outputs": [
    {
     "name": "stdout",
     "output_type": "stream",
     "text": [
      "504\n"
     ]
    }
   ],
   "source": [
    "def prod(lis):\n",
    "    maxi = 0\n",
    "     \n",
    "    # traversal in the lists\n",
    "    for x in lis:\n",
    "       \n",
    "        p = 1\n",
    "         \n",
    "        # traversal in list of lists\n",
    "        for i in x:\n",
    "            p *= i\n",
    "            maxi = max(p, maxi)\n",
    "    return maxi\n",
    " \n",
    " \n",
    "# driver code\n",
    "l = [[1, 2, 3], [4, 5, 6], [7, 8, 9]]\n",
    "print(prod(l))"
   ]
  },
  {
   "cell_type": "code",
   "execution_count": 65,
   "id": "f1d2e912-e8fe-4987-a83e-7852a33a4452",
   "metadata": {},
   "outputs": [],
   "source": [
    "# 15. Create a program that removes all occurrences of a specific element from a list using a `for` loop."
   ]
  },
  {
   "cell_type": "code",
   "execution_count": 66,
   "id": "0911d264-1859-4a44-b16f-798963a5deea",
   "metadata": {},
   "outputs": [
    {
     "name": "stdout",
     "output_type": "stream",
     "text": [
      "The list before performing the removal operation is: \n",
      "[1, 10, 20, 10, 21, 16, 18, 10, 22, 10, 8, 10]\n",
      "The list after performing the removal operation is: \n",
      "[1, 20, 21, 16, 18, 22, 8]\n"
     ]
    }
   ],
   "source": [
    "def removing_elements(my_list, element):\n",
    "   element_count = my_list.count(element)\n",
    "   for i in range(element_count):\n",
    "      my_list.remove(element)\n",
    "   return my_list\n",
    "if __name__ == \"__main__\":\n",
    "   my_list = [1, 10, 20, 10, 21, 16, 18, 10, 22, 10, 8, 10]\n",
    "   element = 10\n",
    "   print(\"The list before performing the removal operation is: \")\n",
    "   print(my_list)\n",
    "   result = removing_elements(my_list, element)\n",
    "   print(\"The list after performing the removal operation is: \")\n",
    "   print(result)"
   ]
  },
  {
   "cell_type": "code",
   "execution_count": 67,
   "id": "0786f97c-e0ec-422d-9dc3-ff5d635fc847",
   "metadata": {},
   "outputs": [],
   "source": [
    "# 16. Develop a program that generates a multiplication table for numbers from 1 to 5 using a nested `for` loop."
   ]
  },
  {
   "cell_type": "code",
   "execution_count": 68,
   "id": "7831c16a-d480-4f7a-8240-024ae1488c59",
   "metadata": {},
   "outputs": [
    {
     "name": "stdin",
     "output_type": "stream",
     "text": [
      "Enter the number of which the user wants to print the multiplication table:  5\n"
     ]
    },
    {
     "name": "stdout",
     "output_type": "stream",
     "text": [
      "The Multiplication Table of:  5\n",
      "5 x 1 = 5\n",
      "5 x 2 = 10\n",
      "5 x 3 = 15\n",
      "5 x 4 = 20\n",
      "5 x 5 = 25\n",
      "5 x 6 = 30\n",
      "5 x 7 = 35\n",
      "5 x 8 = 40\n",
      "5 x 9 = 45\n",
      "5 x 10 = 50\n"
     ]
    }
   ],
   "source": [
    "number = int(input (\"Enter the number of which the user wants to print the multiplication table: \"))      \n",
    "# We are using \"for loop\" to iterate the multiplication 10 times       \n",
    "print (\"The Multiplication Table of: \", number)    \n",
    "for count in range(1, 11):      \n",
    "   print (number, 'x', count, '=', number * count)    "
   ]
  },
  {
   "cell_type": "code",
   "execution_count": 69,
   "id": "454fdd1a-b882-4f2e-ad0c-f7114769666e",
   "metadata": {},
   "outputs": [],
   "source": [
    "# 17. Write a program that converts a list of Fahrenheit temperatures to Celsius using a `for` loop."
   ]
  },
  {
   "cell_type": "code",
   "execution_count": 70,
   "id": "1d54294b-b671-4f3d-b8a8-0875c01b6fac",
   "metadata": {},
   "outputs": [
    {
     "name": "stdout",
     "output_type": "stream",
     "text": [
      "Celsius:  0.0 , Farenheit:  32.0\n",
      "Celsius:  0.5 , Farenheit:  32.9\n",
      "Celsius:  1.0 , Farenheit:  33.8\n",
      "Celsius:  1.5 , Farenheit:  34.7\n",
      "Celsius:  2.0 , Farenheit:  35.6\n",
      "Celsius:  2.5 , Farenheit:  36.5\n",
      "Celsius:  3.0 , Farenheit:  37.4\n",
      "Celsius:  3.5 , Farenheit:  38.3\n",
      "Celsius:  4.0 , Farenheit:  39.2\n",
      "Celsius:  4.5 , Farenheit:  40.1\n",
      "Celsius:  5.0 , Farenheit:  41.0\n",
      "Celsius:  5.5 , Farenheit:  41.9\n",
      "Celsius:  6.0 , Farenheit:  42.8\n",
      "Celsius:  6.5 , Farenheit:  43.7\n",
      "Celsius:  7.0 , Farenheit:  44.6\n",
      "Celsius:  7.5 , Farenheit:  45.5\n",
      "Celsius:  8.0 , Farenheit:  46.4\n",
      "Celsius:  8.5 , Farenheit:  47.3\n",
      "Celsius:  9.0 , Farenheit:  48.2\n",
      "Celsius:  9.5 , Farenheit:  49.1\n",
      "Celsius:  10.0 , Farenheit:  50.0\n",
      "Celsius:  10.5 , Farenheit:  50.900000000000006\n",
      "Celsius:  11.0 , Farenheit:  51.8\n",
      "Celsius:  11.5 , Farenheit:  52.7\n",
      "Celsius:  12.0 , Farenheit:  53.6\n",
      "Celsius:  12.5 , Farenheit:  54.5\n",
      "Celsius:  13.0 , Farenheit:  55.400000000000006\n",
      "Celsius:  13.5 , Farenheit:  56.3\n",
      "Celsius:  14.0 , Farenheit:  57.2\n",
      "Celsius:  14.5 , Farenheit:  58.1\n",
      "Celsius:  15.0 , Farenheit:  59.0\n",
      "Celsius:  15.5 , Farenheit:  59.900000000000006\n",
      "Celsius:  16.0 , Farenheit:  60.8\n",
      "Celsius:  16.5 , Farenheit:  61.7\n",
      "Celsius:  17.0 , Farenheit:  62.6\n",
      "Celsius:  17.5 , Farenheit:  63.5\n",
      "Celsius:  18.0 , Farenheit:  64.4\n",
      "Celsius:  18.5 , Farenheit:  65.30000000000001\n",
      "Celsius:  19.0 , Farenheit:  66.2\n",
      "Celsius:  19.5 , Farenheit:  67.1\n",
      "Celsius:  20.0 , Farenheit:  68.0\n",
      "Celsius:  20.5 , Farenheit:  68.9\n",
      "Celsius:  21.0 , Farenheit:  69.80000000000001\n",
      "Celsius:  21.5 , Farenheit:  70.7\n",
      "Celsius:  22.0 , Farenheit:  71.6\n",
      "Celsius:  22.5 , Farenheit:  72.5\n",
      "Celsius:  23.0 , Farenheit:  73.4\n",
      "Celsius:  23.5 , Farenheit:  74.30000000000001\n",
      "Celsius:  24.0 , Farenheit:  75.2\n",
      "Celsius:  24.5 , Farenheit:  76.1\n",
      "Celsius:  25.0 , Farenheit:  77.0\n",
      "Celsius:  25.5 , Farenheit:  77.9\n",
      "Celsius:  26.0 , Farenheit:  78.80000000000001\n",
      "Celsius:  26.5 , Farenheit:  79.7\n",
      "Celsius:  27.0 , Farenheit:  80.6\n",
      "Celsius:  27.5 , Farenheit:  81.5\n",
      "Celsius:  28.0 , Farenheit:  82.4\n",
      "Celsius:  28.5 , Farenheit:  83.30000000000001\n",
      "Celsius:  29.0 , Farenheit:  84.2\n",
      "Celsius:  29.5 , Farenheit:  85.1\n",
      "Celsius:  30.0 , Farenheit:  86.0\n",
      "Celsius:  30.5 , Farenheit:  86.9\n",
      "Celsius:  31.0 , Farenheit:  87.80000000000001\n",
      "Celsius:  31.5 , Farenheit:  88.7\n",
      "Celsius:  32.0 , Farenheit:  89.6\n",
      "Celsius:  32.5 , Farenheit:  90.5\n",
      "Celsius:  33.0 , Farenheit:  91.4\n",
      "Celsius:  33.5 , Farenheit:  92.30000000000001\n",
      "Celsius:  34.0 , Farenheit:  93.2\n",
      "Celsius:  34.5 , Farenheit:  94.1\n",
      "Celsius:  35.0 , Farenheit:  95.0\n",
      "Celsius:  35.5 , Farenheit:  95.9\n",
      "Celsius:  36.0 , Farenheit:  96.8\n",
      "Celsius:  36.5 , Farenheit:  97.7\n",
      "Celsius:  37.0 , Farenheit:  98.60000000000001\n",
      "Celsius:  37.5 , Farenheit:  99.5\n",
      "Celsius:  38.0 , Farenheit:  100.4\n",
      "Celsius:  38.5 , Farenheit:  101.3\n",
      "Celsius:  39.0 , Farenheit:  102.2\n",
      "Celsius:  39.5 , Farenheit:  103.10000000000001\n",
      "Celsius:  40.0 , Farenheit:  104.0\n",
      "Celsius:  40.5 , Farenheit:  104.9\n",
      "Celsius:  41.0 , Farenheit:  105.8\n",
      "Celsius:  41.5 , Farenheit:  106.7\n",
      "Celsius:  42.0 , Farenheit:  107.60000000000001\n",
      "Celsius:  42.5 , Farenheit:  108.5\n",
      "Celsius:  43.0 , Farenheit:  109.4\n",
      "Celsius:  43.5 , Farenheit:  110.3\n",
      "Celsius:  44.0 , Farenheit:  111.2\n",
      "Celsius:  44.5 , Farenheit:  112.10000000000001\n",
      "Celsius:  45.0 , Farenheit:  113.0\n",
      "Celsius:  45.5 , Farenheit:  113.9\n",
      "Celsius:  46.0 , Farenheit:  114.8\n",
      "Celsius:  46.5 , Farenheit:  115.7\n",
      "Celsius:  47.0 , Farenheit:  116.60000000000001\n",
      "Celsius:  47.5 , Farenheit:  117.5\n",
      "Celsius:  48.0 , Farenheit:  118.4\n",
      "Celsius:  48.5 , Farenheit:  119.3\n",
      "Celsius:  49.0 , Farenheit:  120.2\n",
      "Celsius:  49.5 , Farenheit:  121.10000000000001\n",
      "Celsius:  50.0 , Farenheit:  122.0\n",
      "Celsius:  50.5 , Farenheit:  122.9\n",
      "Celsius:  51.0 , Farenheit:  123.8\n",
      "Celsius:  51.5 , Farenheit:  124.7\n",
      "Celsius:  52.0 , Farenheit:  125.60000000000001\n",
      "Celsius:  52.5 , Farenheit:  126.5\n",
      "Celsius:  53.0 , Farenheit:  127.4\n",
      "Celsius:  53.5 , Farenheit:  128.3\n",
      "Celsius:  54.0 , Farenheit:  129.2\n",
      "Celsius:  54.5 , Farenheit:  130.10000000000002\n",
      "Celsius:  55.0 , Farenheit:  131.0\n",
      "Celsius:  55.5 , Farenheit:  131.9\n",
      "Celsius:  56.0 , Farenheit:  132.8\n",
      "Celsius:  56.5 , Farenheit:  133.7\n",
      "Celsius:  57.0 , Farenheit:  134.60000000000002\n",
      "Celsius:  57.5 , Farenheit:  135.5\n",
      "Celsius:  58.0 , Farenheit:  136.4\n",
      "Celsius:  58.5 , Farenheit:  137.3\n",
      "Celsius:  59.0 , Farenheit:  138.2\n",
      "Celsius:  59.5 , Farenheit:  139.10000000000002\n",
      "Celsius:  60.0 , Farenheit:  140.0\n",
      "Celsius:  60.5 , Farenheit:  140.9\n",
      "Celsius:  61.0 , Farenheit:  141.8\n",
      "Celsius:  61.5 , Farenheit:  142.7\n",
      "Celsius:  62.0 , Farenheit:  143.60000000000002\n",
      "Celsius:  62.5 , Farenheit:  144.5\n",
      "Celsius:  63.0 , Farenheit:  145.4\n",
      "Celsius:  63.5 , Farenheit:  146.3\n",
      "Celsius:  64.0 , Farenheit:  147.2\n",
      "Celsius:  64.5 , Farenheit:  148.10000000000002\n",
      "Celsius:  65.0 , Farenheit:  149.0\n",
      "Celsius:  65.5 , Farenheit:  149.9\n",
      "Celsius:  66.0 , Farenheit:  150.8\n",
      "Celsius:  66.5 , Farenheit:  151.7\n",
      "Celsius:  67.0 , Farenheit:  152.60000000000002\n",
      "Celsius:  67.5 , Farenheit:  153.5\n",
      "Celsius:  68.0 , Farenheit:  154.4\n",
      "Celsius:  68.5 , Farenheit:  155.3\n",
      "Celsius:  69.0 , Farenheit:  156.2\n",
      "Celsius:  69.5 , Farenheit:  157.10000000000002\n",
      "Celsius:  70.0 , Farenheit:  158.0\n",
      "Celsius:  70.5 , Farenheit:  158.9\n",
      "Celsius:  71.0 , Farenheit:  159.8\n",
      "Celsius:  71.5 , Farenheit:  160.70000000000002\n",
      "Celsius:  72.0 , Farenheit:  161.6\n",
      "Celsius:  72.5 , Farenheit:  162.5\n",
      "Celsius:  73.0 , Farenheit:  163.4\n",
      "Celsius:  73.5 , Farenheit:  164.3\n",
      "Celsius:  74.0 , Farenheit:  165.20000000000002\n",
      "Celsius:  74.5 , Farenheit:  166.1\n",
      "Celsius:  75.0 , Farenheit:  167.0\n",
      "Celsius:  75.5 , Farenheit:  167.9\n",
      "Celsius:  76.0 , Farenheit:  168.8\n",
      "Celsius:  76.5 , Farenheit:  169.70000000000002\n",
      "Celsius:  77.0 , Farenheit:  170.6\n",
      "Celsius:  77.5 , Farenheit:  171.5\n",
      "Celsius:  78.0 , Farenheit:  172.4\n",
      "Celsius:  78.5 , Farenheit:  173.3\n",
      "Celsius:  79.0 , Farenheit:  174.20000000000002\n",
      "Celsius:  79.5 , Farenheit:  175.1\n",
      "Celsius:  80.0 , Farenheit:  176.0\n",
      "Celsius:  80.5 , Farenheit:  176.9\n",
      "Celsius:  81.0 , Farenheit:  177.8\n",
      "Celsius:  81.5 , Farenheit:  178.70000000000002\n",
      "Celsius:  82.0 , Farenheit:  179.6\n",
      "Celsius:  82.5 , Farenheit:  180.5\n",
      "Celsius:  83.0 , Farenheit:  181.4\n",
      "Celsius:  83.5 , Farenheit:  182.3\n",
      "Celsius:  84.0 , Farenheit:  183.20000000000002\n",
      "Celsius:  84.5 , Farenheit:  184.1\n",
      "Celsius:  85.0 , Farenheit:  185.0\n",
      "Celsius:  85.5 , Farenheit:  185.9\n",
      "Celsius:  86.0 , Farenheit:  186.8\n",
      "Celsius:  86.5 , Farenheit:  187.70000000000002\n",
      "Celsius:  87.0 , Farenheit:  188.6\n",
      "Celsius:  87.5 , Farenheit:  189.5\n",
      "Celsius:  88.0 , Farenheit:  190.4\n",
      "Celsius:  88.5 , Farenheit:  191.3\n",
      "Celsius:  89.0 , Farenheit:  192.20000000000002\n",
      "Celsius:  89.5 , Farenheit:  193.1\n",
      "Celsius:  90.0 , Farenheit:  194.0\n",
      "Celsius:  90.5 , Farenheit:  194.9\n",
      "Celsius:  91.0 , Farenheit:  195.8\n",
      "Celsius:  91.5 , Farenheit:  196.70000000000002\n",
      "Celsius:  92.0 , Farenheit:  197.6\n",
      "Celsius:  92.5 , Farenheit:  198.5\n",
      "Celsius:  93.0 , Farenheit:  199.4\n",
      "Celsius:  93.5 , Farenheit:  200.3\n",
      "Celsius:  94.0 , Farenheit:  201.20000000000002\n",
      "Celsius:  94.5 , Farenheit:  202.1\n",
      "Celsius:  95.0 , Farenheit:  203.0\n",
      "Celsius:  95.5 , Farenheit:  203.9\n",
      "Celsius:  96.0 , Farenheit:  204.8\n",
      "Celsius:  96.5 , Farenheit:  205.70000000000002\n",
      "Celsius:  97.0 , Farenheit:  206.6\n",
      "Celsius:  97.5 , Farenheit:  207.5\n",
      "Celsius:  98.0 , Farenheit:  208.4\n",
      "Celsius:  98.5 , Farenheit:  209.3\n",
      "Celsius:  99.0 , Farenheit:  210.20000000000002\n",
      "Celsius:  99.5 , Farenheit:  211.1\n"
     ]
    }
   ],
   "source": [
    "def toFarenheit(celsius):\n",
    "    return (9.0/5.0) * celsius + 32\n",
    "\n",
    "def toCelsius(farenheit):\n",
    "    return (farenheit - 32) * (5.0 / 9.0)\n",
    "# I don't actually use this method, but it's still good to have\n",
    "for y in range(0,200):\n",
    "    x = y / 2.0\n",
    "    print(\"Celsius: \", x, \", Farenheit: \", toFarenheit(x))"
   ]
  },
  {
   "cell_type": "code",
   "execution_count": 71,
   "id": "d7ba7ba8-97ce-4edb-811f-1a8bd0c7a3bc",
   "metadata": {},
   "outputs": [],
   "source": [
    "# 18. Create a program to print the common elements from two lists using a `for` loop."
   ]
  },
  {
   "cell_type": "code",
   "execution_count": 75,
   "id": "c8326f9c-be5c-45f8-941d-5c60f3f5df53",
   "metadata": {},
   "outputs": [
    {
     "name": "stdout",
     "output_type": "stream",
     "text": [
      "The common elements in the two lists are: \n",
      "[5]\n"
     ]
    }
   ],
   "source": [
    "import operator as op\n",
    "def common_member(a, b):\n",
    "    result = [i for i in a if op.countOf(b,i)>0 ]\n",
    "    return result\n",
    " \n",
    "a = [1, 2, 3, 4, 5]\n",
    "b = [5, 6, 7, 8, 9]\n",
    " \n",
    "print(\"The common elements in the two lists are: \")\n",
    "print(common_member(a, b))"
   ]
  },
  {
   "cell_type": "code",
   "execution_count": 76,
   "id": "a0b62992-ba1f-4efb-adf6-baf19d915bcf",
   "metadata": {},
   "outputs": [],
   "source": [
    "# 19. Develop a program that prints the pattern of right-angled triangles using a `for` loop. Use ‘*’ to draw the pattern"
   ]
  },
  {
   "cell_type": "code",
   "execution_count": 79,
   "id": "47925acc-7040-4701-94eb-6d459ef6a187",
   "metadata": {},
   "outputs": [
    {
     "name": "stdin",
     "output_type": "stream",
     "text": [
      "Enter row number=\n",
      " 10\n"
     ]
    },
    {
     "name": "stdout",
     "output_type": "stream",
     "text": [
      "# \n",
      "# # \n",
      "# # # \n",
      "# # # # \n",
      "# # # # # \n",
      "# # # # # # \n",
      "# # # # # # # \n",
      "# # # # # # # # \n",
      "# # # # # # # # # \n",
      "# # # # # # # # # # \n"
     ]
    }
   ],
   "source": [
    "x=int(input(\"Enter row number=\\n\"))\n",
    "for i in range(x):\n",
    "    for j in range(i+1):\n",
    "        print(\"#\",end=' ')\n",
    "    print(\"\")"
   ]
  },
  {
   "cell_type": "code",
   "execution_count": 80,
   "id": "05a9d4ae-0da2-4055-8aba-20f88e1a859e",
   "metadata": {},
   "outputs": [],
   "source": [
    "# 20. Write a program to find the greatest common divisor (GCD) of two numbers using a `for` loop."
   ]
  },
  {
   "cell_type": "code",
   "execution_count": 2,
   "id": "41445609-7eb5-4713-8913-ed1bdd31bf3e",
   "metadata": {},
   "outputs": [
    {
     "name": "stdout",
     "output_type": "stream",
     "text": [
      "GCD of 50 and 100 is: 50\n"
     ]
    }
   ],
   "source": [
    "x = 50\n",
    "y = 100\n",
    "if x > y:\n",
    "  x, y = y, x\n",
    "for i in range(1,x+1):\n",
    "  if x%i == 0 and y%i == 0:\n",
    "    gcd = i\n",
    "\n",
    "print(\"GCD of\", x, \"and\", y, \"is:\", gcd)"
   ]
  },
  {
   "cell_type": "code",
   "execution_count": null,
   "id": "4eed91a6-e24c-4afe-9193-c9cc22e6a612",
   "metadata": {},
   "outputs": [],
   "source": [
    "# 21. Create a program that calculates the sum of the digits of numbers in a list using a list comprehension."
   ]
  },
  {
   "cell_type": "code",
   "execution_count": 9,
   "id": "3af63346-31ec-439a-a22f-6ed7261c464c",
   "metadata": {},
   "outputs": [
    {
     "name": "stdout",
     "output_type": "stream",
     "text": [
      "Sum of all elements in given list:  11\n",
      "Sum of all elements in given list:  16\n",
      "Sum of all elements in given list:  33\n",
      "Sum of all elements in given list:  51\n",
      "Sum of all elements in given list:  74\n"
     ]
    }
   ],
   "source": [
    "# creating a list\n",
    "list1 = [11, 5, 17, 18, 23]\n",
    "total = 0;\n",
    "for ele in range(0, len(list1)):\n",
    "    total = total + list1[ele]\n",
    "    print(\"Sum of all elements in given list: \", total)"
   ]
  },
  {
   "cell_type": "code",
   "execution_count": 10,
   "id": "90e5cb1a-1ce5-48db-ba99-36003ce889fe",
   "metadata": {},
   "outputs": [],
   "source": [
    "# 22. Write a program to find the prime factors of a given number using a `for` loop and list comprehension."
   ]
  },
  {
   "cell_type": "code",
   "execution_count": 14,
   "id": "8ec530d9-0649-4336-a40a-2a56274b92de",
   "metadata": {},
   "outputs": [
    {
     "name": "stdout",
     "output_type": "stream",
     "text": [
      "3 5 7 3\n"
     ]
    }
   ],
   "source": [
    "# Using anonymous function\n",
    "prime_factors = lambda n: [i for i in range(2, n+1) if n%i == 0 and all(i % j != 0 for j in range(2, int(i**0.5)+1))]\n",
    "n = 315\n",
    "factors = []\n",
    "while n > 1:\n",
    "    for factor in prime_factors(n):\n",
    "        factors.append(factor)\n",
    "        n //= factor\n",
    "print(*factors)"
   ]
  },
  {
   "cell_type": "code",
   "execution_count": 15,
   "id": "ef62d440-7230-475b-aa93-309c0d1ac126",
   "metadata": {},
   "outputs": [],
   "source": [
    "# 23. Develop a program that extracts unique elements from a list and stores them in a new list using a list\n",
    "# comprehension."
   ]
  },
  {
   "cell_type": "code",
   "execution_count": 17,
   "id": "f9c22dae-322e-4b2e-a305-9138baf05a38",
   "metadata": {},
   "outputs": [
    {
     "name": "stdout",
     "output_type": "stream",
     "text": [
      "the unique values from 1st list is\n",
      "40\n",
      "10\n",
      "20\n",
      "30\n",
      "\n",
      "the unique values from 2nd list is\n",
      "1\n",
      "2\n",
      "3\n",
      "4\n",
      "5\n"
     ]
    }
   ],
   "source": [
    "def unique(list1):\n",
    " \n",
    "    # insert the list to the set\n",
    "    list_set = set(list1)\n",
    "    # convert the set to the list\n",
    "    unique_list = (list(list_set))\n",
    "    for x in unique_list:\n",
    "        print(x),\n",
    " \n",
    " \n",
    "# driver code\n",
    "list1 = [10, 20, 10, 30, 40, 40]\n",
    "print(\"the unique values from 1st list is\")\n",
    "unique(list1)\n",
    " \n",
    " \n",
    "list2 = [1, 2, 1, 1, 3, 4, 3, 3, 5]\n",
    "print(\"\\nthe unique values from 2nd list is\")\n",
    "unique(list2)"
   ]
  },
  {
   "cell_type": "code",
   "execution_count": 18,
   "id": "290555e9-ed4b-4c09-a488-815ef83af499",
   "metadata": {},
   "outputs": [],
   "source": [
    "# 24. Create a program that generates a list of all palindromic numbers up to a specified limit using a list\n",
    "# comprehension."
   ]
  },
  {
   "cell_type": "code",
   "execution_count": 19,
   "id": "133b1aaa-f4cd-47a2-a58f-49272b8cfea9",
   "metadata": {},
   "outputs": [
    {
     "name": "stdout",
     "output_type": "stream",
     "text": [
      "121\n",
      "141\n",
      "252\n",
      "Total palindrome nos. are 3\n"
     ]
    }
   ],
   "source": [
    "def palindromeNumbers(list_a):\n",
    "    c = 0\n",
    "    for i in list_a:\n",
    "        if str(i) == str(i)[::-1]:\n",
    "            print(i)\n",
    "            c += 1\n",
    "    print(\"Total palindrome nos. are\", c)\n",
    " \n",
    " \n",
    "list_a = [10, 121, 133, 155, 141, 252]\n",
    "palindromeNumbers(list_a)"
   ]
  },
  {
   "cell_type": "code",
   "execution_count": 20,
   "id": "a20269ea-b558-4c68-ac42-8b17ad4927ac",
   "metadata": {},
   "outputs": [],
   "source": [
    "# 25. Write a program to flatten a nested list using list comprehension."
   ]
  },
  {
   "cell_type": "code",
   "execution_count": 22,
   "id": "aaa8c948-e9dc-4245-8127-09612993f401",
   "metadata": {},
   "outputs": [
    {
     "name": "stdout",
     "output_type": "stream",
     "text": [
      "[1, 2, 3, 4, 5, 6, 7]\n"
     ]
    }
   ],
   "source": [
    "my_list = [[1], [2, 3], [4, 5, 6, 7]]\n",
    "\n",
    "flat_list = []\n",
    "for sublist in my_list:\n",
    "    for num in sublist:\n",
    "        flat_list.append(num)\n",
    "\n",
    "print(flat_list)"
   ]
  },
  {
   "cell_type": "code",
   "execution_count": 23,
   "id": "4afecb15-f7c9-4f53-8d26-1bc1b03a77c7",
   "metadata": {},
   "outputs": [],
   "source": [
    "# 26. Develop a program that computes the sum of even and odd numbers in a list separately using list comprehension."
   ]
  },
  {
   "cell_type": "code",
   "execution_count": 24,
   "id": "89cad390-3f95-4763-80e7-dfcb5077fb1d",
   "metadata": {},
   "outputs": [
    {
     "name": "stdin",
     "output_type": "stream",
     "text": [
      "Please enter the Total Number of List Elements:  4\n",
      "Please enter the Value of 1 Element :  12\n",
      "Please enter the Value of 2 Element :  23\n",
      "Please enter the Value of 3 Element :  34\n",
      "Please enter the Value of 4 Element :  45\n"
     ]
    },
    {
     "name": "stdout",
     "output_type": "stream",
     "text": [
      "\n",
      "The Sum of Even Numbers in this List =   46\n",
      "The Sum of Odd Numbers in this List =   68\n"
     ]
    }
   ],
   "source": [
    "NumList = []\n",
    "Even_Sum = 0\n",
    "Odd_Sum = 0\n",
    "\n",
    "Number = int(input(\"Please enter the Total Number of List Elements: \"))\n",
    "for i in range(1, Number + 1):\n",
    "    value = int(input(\"Please enter the Value of %d Element : \" %i))\n",
    "    NumList.append(value)\n",
    "\n",
    "for j in range(Number):\n",
    "    if(NumList[j] % 2 == 0):\n",
    "        Even_Sum = Even_Sum + NumList[j]\n",
    "    else:\n",
    "        Odd_Sum = Odd_Sum + NumList[j]\n",
    "\n",
    "print(\"\\nThe Sum of Even Numbers in this List =  \", Even_Sum)\n",
    "print(\"The Sum of Odd Numbers in this List =  \", Odd_Sum)"
   ]
  },
  {
   "cell_type": "code",
   "execution_count": 25,
   "id": "9e9e9812-f6ad-4132-99e2-8224150103d0",
   "metadata": {},
   "outputs": [],
   "source": [
    "# 27. Create a program that generates a list of squares of odd numbers between 1 and 10 using list comprehension."
   ]
  },
  {
   "cell_type": "code",
   "execution_count": 26,
   "id": "48df574e-17e5-4aeb-9b80-908b015e5db5",
   "metadata": {},
   "outputs": [
    {
     "name": "stdout",
     "output_type": "stream",
     "text": [
      "[1, 9, 25, 49, 81]\n"
     ]
    }
   ],
   "source": [
    "# create a list with 7 integer elements\n",
    "data=[1,2,3,4,5,6,7,8,9,10]\n",
    " \n",
    "# use list comprehension to get square\n",
    "# of odd numbers\n",
    "result = [i*i for i in data if i%2!=0]\n",
    " \n",
    "# display the result\n",
    "print(result)"
   ]
  },
  {
   "cell_type": "code",
   "execution_count": 27,
   "id": "a2376110-5ac3-49f3-afa0-50c07bce9c14",
   "metadata": {},
   "outputs": [],
   "source": [
    "# 28. Write a program that combines two lists into a dictionary using list comprehension."
   ]
  },
  {
   "cell_type": "code",
   "execution_count": 28,
   "id": "6d419c60-284d-4bee-8c80-02399ab5d79e",
   "metadata": {},
   "outputs": [
    {
     "name": "stdout",
     "output_type": "stream",
     "text": [
      "Original key list is : ['Rash', 'Kil', 'Varsha']\n",
      "Original value list is : [1, 4, 5]\n",
      "Resultant dictionary is : {'Rash': 1, 'Kil': 4, 'Varsha': 5}\n"
     ]
    }
   ],
   "source": [
    "# initializing lists\n",
    "keys = [\"Rash\", \"Kil\", \"Varsha\"]\n",
    "values = [1, 4, 5]\n",
    " \n",
    "# Printing original keys-value lists\n",
    "print (\"Original key list is : \" + str(keys))\n",
    "print (\"Original value list is : \" + str(values))\n",
    " \n",
    "# using map and dict type casting\n",
    "# to convert lists to dictionary\n",
    "res = dict(map(lambda i,j : (i,j) , keys,values))\n",
    " \n",
    "# Printing resultant dictionary\n",
    "print (\"Resultant dictionary is : \" + str(res))"
   ]
  },
  {
   "cell_type": "code",
   "execution_count": 29,
   "id": "392364cd-d4a7-423c-bd2c-45abd3d65e1b",
   "metadata": {},
   "outputs": [],
   "source": [
    "# 29. Develop a program that extracts the vowels from a string and stores them in a list using list comprehension."
   ]
  },
  {
   "cell_type": "code",
   "execution_count": 31,
   "id": "5db52417-63d9-4875-ba13-74e4192b1b81",
   "metadata": {},
   "outputs": [
    {
     "name": "stdout",
     "output_type": "stream",
     "text": [
      "The original list is : ['a', 'l', 'a', 'g', 'e', 'b', 'g']\n",
      "The extracted words : ['a', 'a', 'e']\n"
     ]
    }
   ],
   "source": [
    "# initializing list\n",
    "test_list = [\"a\", \"l\", \"a\", \"g\", \"e\", \"b\", \"g\"]\n",
    " \n",
    "# printing original list\n",
    "print(\"The original list is : \" + str(test_list))\n",
    " \n",
    "res = []\n",
    "vow = \"aeiou\"\n",
    "for sub in test_list:\n",
    "    flag = False\n",
    "     \n",
    "    # checking for begin char\n",
    "    for ele in vow:\n",
    "        if sub.startswith(ele):\n",
    "            flag = True\n",
    "            break\n",
    "    if flag:\n",
    "        res.append(sub)\n",
    " \n",
    "# printing result\n",
    "print(\"The extracted words : \" + str(res))"
   ]
  },
  {
   "cell_type": "code",
   "execution_count": 32,
   "id": "6310d32e-e0f6-4850-be3c-64cb3388f870",
   "metadata": {},
   "outputs": [],
   "source": [
    "# 30. Create a program that removes all non-numeric characters from a list of strings using list comprehension."
   ]
  },
  {
   "cell_type": "code",
   "execution_count": 33,
   "id": "e16ae84a-3ba9-4bd6-940f-e8fcbf4d1645",
   "metadata": {},
   "outputs": [
    {
     "name": "stdout",
     "output_type": "stream",
     "text": [
      "123\n"
     ]
    }
   ],
   "source": [
    "import re\n",
    "\n",
    "my_str = 'bo_1bby_2_ha_3_dz.com'\n",
    "\n",
    "result = re.sub(r'[^0-9]', '', my_str)\n",
    "\n",
    "print(result)"
   ]
  },
  {
   "cell_type": "code",
   "execution_count": 34,
   "id": "9473c2e4-5efd-482d-8661-c0700b29771e",
   "metadata": {},
   "outputs": [],
   "source": [
    "# 31. Write a program to generate a list of prime numbers using the Sieve of Eratosthenes algorithm and list comprehension."
   ]
  },
  {
   "cell_type": "code",
   "execution_count": 37,
   "id": "19f843eb-ee9d-4116-a41e-682ac7ccb48a",
   "metadata": {},
   "outputs": [
    {
     "name": "stdout",
     "output_type": "stream",
     "text": [
      "2\n",
      "3\n",
      "5\n",
      "7\n",
      "11\n",
      "13\n",
      "17\n",
      "19\n",
      "23\n",
      "29\n",
      "31\n",
      "37\n",
      "41\n",
      "43\n",
      "47\n",
      "53\n",
      "59\n",
      "61\n",
      "67\n",
      "71\n",
      "73\n",
      "79\n",
      "83\n",
      "89\n",
      "97\n",
      "None\n"
     ]
    }
   ],
   "source": [
    "def prime_eratosthenes(n):\n",
    "    prime_list = []\n",
    "    for i in range(2, n+1):\n",
    "        if i not in prime_list:\n",
    "            print (i)\n",
    "            for j in range(i*i, n+1, i):\n",
    "                prime_list.append(j)\n",
    "\n",
    "print(prime_eratosthenes(100));\n"
   ]
  },
  {
   "cell_type": "code",
   "execution_count": 38,
   "id": "e06338b5-d2d0-4e12-8963-b544516412b0",
   "metadata": {},
   "outputs": [],
   "source": [
    "# 32. Create a program that generates a list of all Pythagorean triplets up to a specified limit using list comprehension."
   ]
  },
  {
   "cell_type": "code",
   "execution_count": 50,
   "id": "45daa365-2ba5-4529-b4b7-b82b6ba9b9c2",
   "metadata": {},
   "outputs": [
    {
     "name": "stdout",
     "output_type": "stream",
     "text": [
      "3 4 5\n",
      "8 6 10\n",
      "5 12 13\n",
      "15 8 17\n",
      "12 16 20\n"
     ]
    }
   ],
   "source": [
    "def pythagoreanTriplets(limits) :\n",
    "    c, m = 0, 2\n",
    " \n",
    "    # Limiting c would limit\n",
    "    # all a, b and c\n",
    "    while c < limits :\n",
    "         \n",
    "        # Now loop on n from 1 to m-1\n",
    "        for n in range(1, m) :\n",
    "            a = m * m - n * n\n",
    "            b = 2 * m * n\n",
    "            c = m * m + n * n\n",
    " \n",
    "            # if c is greater than\n",
    "            # limit then break it\n",
    "            if c > limits :\n",
    "                break\n",
    " \n",
    "            print(a, b, c)\n",
    " \n",
    "        m = m + 1\n",
    " \n",
    " \n",
    "# Driver Code\n",
    "if __name__ == '__main__' :\n",
    "     \n",
    "    limit = 20\n",
    "    pythagoreanTriplets(limit)\n",
    " "
   ]
  },
  {
   "cell_type": "code",
   "execution_count": 51,
   "id": "f5ee1261-9620-4259-81c8-f2ce7a330b68",
   "metadata": {},
   "outputs": [],
   "source": [
    "# 33. Develop a program that generates a list of all possible combinations of two lists using list comprehension."
   ]
  },
  {
   "cell_type": "code",
   "execution_count": 52,
   "id": "b755ebe8-5aa3-4bf9-a54c-293e90509375",
   "metadata": {},
   "outputs": [
    {
     "name": "stdout",
     "output_type": "stream",
     "text": [
      "[[('a', 1), ('b', 4), ('c', 9)], [('a', 1), ('b', 4), ('d', 9)], [('a', 1), ('c', 4), ('b', 9)], [('a', 1), ('c', 4), ('d', 9)], [('a', 1), ('d', 4), ('b', 9)], [('a', 1), ('d', 4), ('c', 9)], [('b', 1), ('a', 4), ('c', 9)], [('b', 1), ('a', 4), ('d', 9)], [('b', 1), ('c', 4), ('a', 9)], [('b', 1), ('c', 4), ('d', 9)], [('b', 1), ('d', 4), ('a', 9)], [('b', 1), ('d', 4), ('c', 9)], [('c', 1), ('a', 4), ('b', 9)], [('c', 1), ('a', 4), ('d', 9)], [('c', 1), ('b', 4), ('a', 9)], [('c', 1), ('b', 4), ('d', 9)], [('c', 1), ('d', 4), ('a', 9)], [('c', 1), ('d', 4), ('b', 9)], [('d', 1), ('a', 4), ('b', 9)], [('d', 1), ('a', 4), ('c', 9)], [('d', 1), ('b', 4), ('a', 9)], [('d', 1), ('b', 4), ('c', 9)], [('d', 1), ('c', 4), ('a', 9)], [('d', 1), ('c', 4), ('b', 9)]]\n"
     ]
    }
   ],
   "source": [
    "# import itertools package\n",
    "import itertools\n",
    "from itertools import permutations\n",
    " \n",
    "# initialize lists\n",
    "list_1 = [\"a\", \"b\", \"c\",\"d\"]\n",
    "list_2 = [1,4,9]\n",
    " \n",
    "# create empty list to store the\n",
    "# combinations\n",
    "unique_combinations = []\n",
    " \n",
    "# Getting all permutations of list_1\n",
    "# with length of list_2\n",
    "permut = itertools.permutations(list_1, len(list_2))\n",
    " \n",
    "# zip() is called to pair each permutation\n",
    "# and shorter list element into combination\n",
    "for comb in permut:\n",
    "    zipped = zip(comb, list_2)\n",
    "    unique_combinations.append(list(zipped))\n",
    " \n",
    "# printing unique_combination list\n",
    "print(unique_combinations)"
   ]
  },
  {
   "cell_type": "code",
   "execution_count": 53,
   "id": "085fec26-3a1d-4041-aee8-f491304dd78a",
   "metadata": {},
   "outputs": [],
   "source": [
    "# 34. Write a program that calculates the mean, median, and mode of a list of numbers using list comprehension."
   ]
  },
  {
   "cell_type": "code",
   "execution_count": 54,
   "id": "9ee32979-4875-405e-abe5-6a27722ea5bc",
   "metadata": {},
   "outputs": [
    {
     "data": {
      "text/plain": [
       "[4, 2]"
      ]
     },
     "execution_count": 54,
     "metadata": {},
     "output_type": "execute_result"
    }
   ],
   "source": [
    ">>> from collections import Counter\n",
    "\n",
    ">>> def my_mode(sample):\n",
    "...     c = Counter(sample)\n",
    "...     return [k for k, v in c.items() if v == c.most_common(1)[0][1]]\n",
    "...\n",
    "\n",
    ">>> my_mode([\"male\", \"male\", \"female\", \"male\"])\n",
    "['male']\n",
    "\n",
    ">>> my_mode([\"few\", \"few\", \"many\", \"some\", \"many\"])\n",
    "['few', 'many']\n",
    "\n",
    ">>> my_mode([4, 1, 2, 2, 3, 5])\n",
    "[2]\n",
    "\n",
    ">>> my_mode([4, 1, 2, 2, 3, 5, 4])\n",
    "[4, 2]"
   ]
  },
  {
   "cell_type": "code",
   "execution_count": 55,
   "id": "a5f47690-9b87-47e8-81f7-ce9e51bad75a",
   "metadata": {},
   "outputs": [],
   "source": [
    "# 35. Create a program that generates Pascal's triangle up to a specified number of rows using list comprehension."
   ]
  },
  {
   "cell_type": "code",
   "execution_count": 63,
   "id": "8cbd6fc6-9d4f-4539-9ddb-ff17ebc365b2",
   "metadata": {},
   "outputs": [
    {
     "name": "stdout",
     "output_type": "stream",
     "text": [
      "      1\n",
      "     1 1\n",
      "    1 2 1\n",
      "   1 3 3 1\n",
      "  1 4 6 4 1\n"
     ]
    }
   ],
   "source": [
    "n = 5\n",
    " \n",
    "for i in range(1, n+1):\n",
    "    for j in range(0, n-i+1):\n",
    "        print(' ', end='')\n",
    " \n",
    "    # first element is always 1\n",
    "    C = 1\n",
    "    for j in range(1, i+1):\n",
    " \n",
    "        # first value in a line is always 1\n",
    "        print(' ', C, sep='', end='')\n",
    " \n",
    "        # using Binomial Coefficient\n",
    "        C = C * (i - j) // j\n",
    "    print()"
   ]
  },
  {
   "cell_type": "code",
   "execution_count": 64,
   "id": "0e1c87c0-ee16-4265-828a-fb1a8ad35aed",
   "metadata": {},
   "outputs": [],
   "source": [
    "# 36. Develop a program that calculates the sum of the digits of a factorial of numbers from 1 to 5 using list comprehension."
   ]
  },
  {
   "cell_type": "code",
   "execution_count": 65,
   "id": "36841f4c-a3bd-4cfa-8203-abcc8936d74f",
   "metadata": {},
   "outputs": [
    {
     "name": "stdout",
     "output_type": "stream",
     "text": [
      "27\n",
      "648\n"
     ]
    }
   ],
   "source": [
    "def sum_of_digits_factorial(n):\n",
    "    fact = 1\n",
    "    for i in range(2, n+1):\n",
    "        fact *= i\n",
    "    sum_of_digits = 0\n",
    "    for digit in str(fact):\n",
    "        sum_of_digits += int(digit)\n",
    "    return sum_of_digits\n",
    " \n",
    "# Example usage\n",
    "print(sum_of_digits_factorial(10))\n",
    "print(sum_of_digits_factorial(100))"
   ]
  },
  {
   "cell_type": "code",
   "execution_count": null,
   "id": "987d0c21-f3f2-4be9-8aec-3c0cbcf0532b",
   "metadata": {},
   "outputs": [],
   "source": [
    "# 37. Write a program that finds the longest word in a sentence using list comprehension."
   ]
  },
  {
   "cell_type": "code",
   "execution_count": 66,
   "id": "6cfa5fd2-22e5-4eb6-b224-9ffb6114b9fa",
   "metadata": {},
   "outputs": [
    {
     "name": "stdin",
     "output_type": "stream",
     "text": [
      "Enter sentence:  subhash kumar yadav\n"
     ]
    },
    {
     "name": "stdout",
     "output_type": "stream",
     "text": [
      "Longest word is:  subhash\n",
      "And its length is:  7\n"
     ]
    }
   ],
   "source": [
    "sentence = input(\"Enter sentence: \")\n",
    "\n",
    "# Finding longest word\n",
    "longest = max(sentence.split(), key=len)\n",
    "\n",
    "# Displaying longest word\n",
    "print(\"Longest word is: \", longest)\n",
    "print(\"And its length is: \", len(longest))"
   ]
  },
  {
   "cell_type": "code",
   "execution_count": 67,
   "id": "8c390ca6-3521-41c5-a37d-3455e9845055",
   "metadata": {},
   "outputs": [],
   "source": [
    "# 38. Create a program that filters a list of strings to include only those with more than three vowels using list comprehension."
   ]
  },
  {
   "cell_type": "code",
   "execution_count": 77,
   "id": "ff1be16a-b286-4f66-8c7f-1adc98598914",
   "metadata": {},
   "outputs": [
    {
     "name": "stdout",
     "output_type": "stream",
     "text": [
      "['guava', 'pineapple', 'mandarin orange']\n"
     ]
    }
   ],
   "source": [
    "import re\n",
    "\n",
    "fruits = [\"mango\", \"kiwi\", \"strawberry\", \"guava\", \"pineapple\", \"mandarin orange\"]\n",
    "results = [i for i in fruits if len(re.sub(r\"[^aeiouAEIOU]\", \"\", i)) > 2]\n",
    "print(results)"
   ]
  },
  {
   "cell_type": "code",
   "execution_count": 74,
   "id": "0a86d746-2a7a-4272-843a-d42e6da6aa09",
   "metadata": {},
   "outputs": [],
   "source": [
    "# 39. Develop a program that calculates the sum of the digits of numbers from 1 to 1000 using list comprehension."
   ]
  },
  {
   "cell_type": "code",
   "execution_count": 79,
   "id": "afcffc8b-749e-4663-bd50-ca69a888b9b1",
   "metadata": {},
   "outputs": [
    {
     "name": "stdout",
     "output_type": "stream",
     "text": [
      "500500\n"
     ]
    }
   ],
   "source": [
    "sum = 0 \n",
    "for i in range(1,1001): \n",
    "\tsum += i \n",
    "print(sum) "
   ]
  },
  {
   "cell_type": "code",
   "execution_count": 80,
   "id": "ceadd613-4fe0-4102-9944-2578fe64575c",
   "metadata": {},
   "outputs": [],
   "source": [
    "# 40. Write a program that generates a list of prime palindromic numbers using list comprehension."
   ]
  },
  {
   "cell_type": "code",
   "execution_count": 81,
   "id": "6803390c-de67-4b35-b726-203baa644bf5",
   "metadata": {},
   "outputs": [
    {
     "name": "stdout",
     "output_type": "stream",
     "text": [
      "Orginal list of strings:\n",
      "['php', 'w3r', 'Python', 'abcd', 'Java', 'aaa']\n",
      "\n",
      "List of palindromes:\n",
      "['php', 'aaa']\n"
     ]
    }
   ],
   "source": [
    "texts = [\"php\", \"w3r\", \"Python\", \"abcd\", \"Java\", \"aaa\"]\n",
    "print(\"Orginal list of strings:\")\n",
    "print(texts) \n",
    "result = list(filter(lambda x: (x == \"\".join(reversed(x))), texts)) \n",
    "print(\"\\nList of palindromes:\")\n",
    "print(result) "
   ]
  },
  {
   "cell_type": "code",
   "execution_count": null,
   "id": "8d638274-7645-45f2-b417-17600cd428c5",
   "metadata": {},
   "outputs": [],
   "source": []
  }
 ],
 "metadata": {
  "kernelspec": {
   "display_name": "Python 3 (ipykernel)",
   "language": "python",
   "name": "python3"
  },
  "language_info": {
   "codemirror_mode": {
    "name": "ipython",
    "version": 3
   },
   "file_extension": ".py",
   "mimetype": "text/x-python",
   "name": "python",
   "nbconvert_exporter": "python",
   "pygments_lexer": "ipython3",
   "version": "3.10.8"
  }
 },
 "nbformat": 4,
 "nbformat_minor": 5
}
